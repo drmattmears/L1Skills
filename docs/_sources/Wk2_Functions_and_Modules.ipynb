{
 "cells": [
  {
   "cell_type": "markdown",
   "id": "f8d125ee",
   "metadata": {},
   "source": [
    "# Functions and Modules\n",
    "\n",
    "As we established last week, one of the main reasons that we use programming languages is to make our workflow more efficient. We use functions and modules to do just this - they are used to save us time by eliminating the need to write the same bits of code over and over again.\n",
    "\n",
    "### Naming Conventions\n",
    "\n",
    "Now that we are comfortable defining variables, we should briefly consider variable names. From the assigned variable name it should be clear what the variable represents, for example, if I set a variable equal to the age of my car, a good name could be “carAge”, whereas a less useful name might be “ca”. \n",
    "\n",
    "In the example above I used camel case for my variable name and this is a good style convention to adopt. When using camel case the first word of the variable is lowercase, and rather than using spaces, we highlight the start of a new word using a capital letter e.g. thisIsAnExampleOfHowWeCanUseCamalCase. Alternatively, we may wish to use snake case: this_is_where_we_use_underscores. Typically when using snake case all letters are lowercase. \n",
    "\n",
    "Be aware that Python is case sensitive - “variable1” is not the same as “Variable1”. Variable names must always start with a letter.\n",
    "\n",
    "In this document, I will use snake case when defining the names of functions."
   ]
  },
  {
   "cell_type": "markdown",
   "id": "ae587d42",
   "metadata": {},
   "source": [
    "---\n",
    "## Functions\n",
    "\n",
    "A function is a block of code which can be called from anywhere in your program. Function use is particularly powerful as It allows you to reuse code (saving you time and reducing the chances of errors) and they make code cleaner and easier to adapt and debug.\n",
    "\n",
    "We have actually used functions lots of times previously, the print() command is a function, all the methods we have used are actually functions. What we are going to do now is build our own functions.\n",
    "\n",
    "To start with we are going to look at the anatomy of a function."
   ]
  },
  {
   "cell_type": "code",
   "execution_count": 1,
   "id": "ffaf3892",
   "metadata": {},
   "outputs": [],
   "source": [
    "#Here is an example of a simple function to calculate the length of the hypotenuse of a triangle.\n",
    "\n",
    "import numpy as np\n",
    "\n",
    "def hypotenuse_calculator(a,b):\n",
    "\tc = np.sqrt(a**2 + b**2)\n",
    "\treturn c"
   ]
  },
  {
   "cell_type": "markdown",
   "id": "b9164b53",
   "metadata": {},
   "source": [
    "Let’s take a look at the different elements of the function above:\n",
    "\n",
    "1. We begin our function with the \"def\" command. This tells the computer that we are about to define a new function. \n",
    "\n",
    "\n",
    "2. Next we see the name of our function “HypotenuseCalculator” - this is what we will call in our script when we want to use it\n",
    "\n",
    "\n",
    "3. Following our functionname we have “(a,b)” which defines the arguments that we can input into our function. We end our first line with a “:”. Note: a function does not need arguments, but often they are useful.\n",
    "\n",
    "\n",
    "4. “c = np.sqrt(a**2 + b**2)” is the bit of code that defines what our function does. Note that this is indented.\n",
    "\n",
    "\n",
    "5. Finally we have our “return c” statement. This ends the function and gives us the variable(s) that we would like to extract from the function. Note: a function does not always return information.\n",
    "\n",
    "If we wanted to call our function in our script, we can now just type the following:"
   ]
  },
  {
   "cell_type": "code",
   "execution_count": 2,
   "id": "b0939923",
   "metadata": {},
   "outputs": [
    {
     "name": "stdout",
     "output_type": "stream",
     "text": [
      "2.8284271247461903\n",
      "5.385164807134504\n",
      "74.02188865464053\n"
     ]
    }
   ],
   "source": [
    "# We are saved from having to type out the calculation each time we want \n",
    "# to determine the hypotenuse of a triangle with different dimensions!\n",
    "\n",
    "h1 = hypotenuse_calculator(2,2)\n",
    "print(h1)\n",
    "\n",
    "h2 = hypotenuse_calculator(2,5)\n",
    "print(h2)\n",
    "\n",
    "h3 = hypotenuse_calculator(11,73.2)\n",
    "print(h3)"
   ]
  },
  {
   "cell_type": "markdown",
   "id": "1f9e47e2",
   "metadata": {},
   "source": [
    "The example provided above is a very simple function that returns a single value, but there is nothing to stop us writing a more complex function that returns many variables. For example:"
   ]
  },
  {
   "cell_type": "code",
   "execution_count": 3,
   "id": "02fe3b5d",
   "metadata": {
    "scrolled": true
   },
   "outputs": [
    {
     "name": "stdout",
     "output_type": "stream",
     "text": [
      "The hypotenuse has a length of  17.4928556845359 units. \n",
      "\n",
      "The area of the triangle is  67.5 units**2. \n",
      "\n",
      "The perimeter of the triangle is  41.4928556845359 units. \n",
      "\n",
      "Theta is 1.0303768265243125 radians. \n",
      "\n",
      "The surface area to perimeter ratio of the triangle is:  1.6267860788660249 .\n"
     ]
    }
   ],
   "source": [
    "def right_angled_triangle(base,height):\n",
    "   \n",
    "    hypotenuse = np.sqrt(base**2 + height**2)\n",
    "    print(\"The hypotenuse has a length of \", hypotenuse, \"units. \\n\")\n",
    "\n",
    "    area = 0.5 * base * height\n",
    "    print(\"The area of the triangle is \", area, \"units**2. \\n\") \n",
    "    \n",
    "    perimeter = base + height + hypotenuse\n",
    "    print(\"The perimeter of the triangle is \", perimeter, \"units. \\n\")\n",
    "\n",
    "    theta = np.arcsin(height/hypotenuse)\n",
    "    print(\"Theta is\", theta, \"radians. \\n\")\n",
    "\n",
    "    ratio = area / perimeter\n",
    "    print(\"The surface area to perimeter ratio of the triangle is: \", ratio, \".\")\n",
    "\n",
    "    return hypotenuse, area, perimeter, theta, ratio\n",
    "\n",
    "# \"\\n\" just tells the computer to start a new line (makes it easier to read output)\n",
    "\n",
    "hypotenuse,area, perimeter, theta, ratio = right_angled_triangle(9,15)"
   ]
  },
  {
   "cell_type": "markdown",
   "id": "313996d1",
   "metadata": {},
   "source": [
    "As mentioned above, we don’t necessarily need arguments for our function to be useful:"
   ]
  },
  {
   "cell_type": "code",
   "execution_count": 4,
   "id": "ce17997f",
   "metadata": {},
   "outputs": [
    {
     "name": "stdout",
     "output_type": "stream",
     "text": [
      "Hello World\n"
     ]
    }
   ],
   "source": [
    "def say_hello_world():\n",
    "\tprint(\"Hello World\")\n",
    "\n",
    "say_hello_world()"
   ]
  },
  {
   "cell_type": "markdown",
   "id": "0aaf67ca",
   "metadata": {},
   "source": [
    "---\n",
    "## Modules\n",
    "\n",
    "A module is simply a file containing a set of functions that you may call into your script. The advantage of using a module is that, similarly to how using a function means that we do not have to rewrite the same formulae over and over again in our script, we no longer need to keep defining the functions that we use commonly in each script we write - we can simply import them from a premade module. \n",
    "\n",
    "Creating and using a simple module is very easy. The first thing we must do is write a script containing the functions that we may need to call.\n",
    "\n",
    "As we are going to create and import the module into this notebook, for simplcity the functions are not defined in here (this would defeat the purpose of the exercise - see area.py for functions that are defined.) "
   ]
  },
  {
   "cell_type": "markdown",
   "id": "0acfc965",
   "metadata": {},
   "source": [
    "Now that we have defined all of the functions within our module, we must save it with an appropriate name and within the same directory (folder) as the script that we are going to import the module into. \n",
    "\n",
    "The module above will be saved and named “area.py”. It is key that the “.py” is used as the file extension so that the computer knows to read it as a Python file. "
   ]
  },
  {
   "cell_type": "code",
   "execution_count": 1,
   "id": "2d8d5c9c",
   "metadata": {},
   "outputs": [],
   "source": [
    "import area\n",
    "import numpy as np"
   ]
  },
  {
   "cell_type": "code",
   "execution_count": 6,
   "id": "89c2e86a",
   "metadata": {
    "scrolled": true
   },
   "outputs": [
    {
     "name": "stdout",
     "output_type": "stream",
     "text": [
      "The area of a circle with a radius of  5 units is:  78.53981633974483 units**2\n",
      "The area of a circle with a radius of  6 units is:  113.09733552923255 units**2\n",
      "The area of a square with length of  8 units is:  64 units**2\n",
      "The area of a rectangle with length of  10 units and a width of  6 units is:  60 units**2\n",
      "The area of a triangle with height of  7 units and a base of  5 units is:  17.5 units**2\n",
      "The area of a triangle with height of  7.5 units and a base of  3.4 units is:  12.75 units**2\n"
     ]
    }
   ],
   "source": [
    "# Now if we want to determine the area of one of the shapes for \n",
    "# which we have an area function, we simply use the module.\n",
    "\n",
    "areaCircle = area.circle(5)\n",
    "areaCircle = area.circle(6)\n",
    "areaSquare = area.square(8)\n",
    "areaRectangle = area.rectangle(10,6)\n",
    "areaTriangle = area.triangle(5,7)\n",
    "areaTriangle = area.triangle(3.4,7.5)"
   ]
  },
  {
   "cell_type": "markdown",
   "id": "b16fb6c9",
   "metadata": {},
   "source": [
    "Lets compare that to the amount of code we would have needed to write in this single script if we had not used the module:"
   ]
  },
  {
   "cell_type": "code",
   "execution_count": 12,
   "id": "ee840ddc",
   "metadata": {},
   "outputs": [
    {
     "name": "stdout",
     "output_type": "stream",
     "text": [
      "The area of a circle with a radius of  5 units is:  78.53981633974483 units**2\n",
      "The area of a circle with a radius of  6 units is:  113.09733552923255 units**2\n",
      "The area of a square with length of  8 units is:  64 units**2\n",
      "The area of a rectangle with length of  10 units and a width of  6 units is:  60 units**2\n",
      "The area of a triangle with height of  7 units and a base of  5 units is:  17.5 units**2\n"
     ]
    }
   ],
   "source": [
    "def circle(radius):\n",
    "    area = np.pi * radius**2\n",
    "    print(\"The area of a circle with a radius of \", radius, \"units is: \", area, \"units**2\")\n",
    "    return area\n",
    "\n",
    "def square(length):\n",
    "    area = length**2\n",
    "    print(\"The area of a square with length of \", length, \"units is: \", area, \"units**2\")\n",
    "    return area\n",
    "\n",
    "def triangle(base, height):\n",
    "    area = 0.5 * base * height\n",
    "    print(\"The area of a triangle with height of \", height, \"units and a base of \", base, \"units is: \", area, \"units**2\")\n",
    "    return area\n",
    "\n",
    "def rectangle(length,width):\n",
    "    area = length * width\n",
    "    print(\"The area of a rectangle with length of \", length, \"units and a width of \", width, \"units is: \", area, \"units**2\")\n",
    "    return area\n",
    "\n",
    "areaCircle1 = circle(5)\n",
    "areaCircle2 = circle(6)\n",
    "areaSquare1 = square(8)\n",
    "areaRectangle1 = rectangle(10,6)\n",
    "areaTriangle1 = triangle(5,7)\n",
    "\n",
    "# ...and we would need to add these definitions to every script we calculated an area in..."
   ]
  },
  {
   "cell_type": "markdown",
   "id": "6880622a",
   "metadata": {},
   "source": [
    "As you become more well versed in coding and start to perform the same tasks over and over again, the advantage of writing well defined functions and using them in modules will become clear, particularly as the tasks you wish to complete become more complex."
   ]
  },
  {
   "cell_type": "markdown",
   "id": "2aa837ec",
   "metadata": {},
   "source": [
    "---\n",
    "## Activities\n",
    "\n",
    "**SUVAT Project**\n",
    "\n",
    "You will hopefully remember from your mechanics lecture this week that the SUVAT equations are essentially a subset of the kinematic equations and those that may be used when the acceleration of an object in motion is constant. \n",
    "\n",
    "The two equations that were derived in the lecture were: \n",
    "\n",
    "$$ v(t) = a_0t + v_0 $$\n",
    "\n",
    "and\n",
    "\n",
    "$$ x(t) = \\frac{a_0 t^2}{2} + v_0 t +x_0 $$\n",
    "\n",
    "For simplicity when assigning variable names, we will also re-write these equations in the SUVAT notation you are likely familiar with:\n",
    "\n",
    "$$ v = at + u $$\n",
    "\n",
    "and\n",
    "\n",
    "$$ s = \\frac{1}{2}at^2 + ut $$\n",
    "\n",
    "where s = displacement, u = initial velocity, v = final velocity, a = acceleration and t = time. From these two equations, we can derive additional expressions that allow us to calculate two unknown variables provided that we know the values of the other three: \n",
    "\n",
    "$$ s = \\frac{1}{2}(u+v)t $$\n",
    "\n",
    "$$ v^2 = u^2 + 2as $$\n",
    "\n",
    "and\n",
    "\n",
    "$$ s = vt - \\frac{1}{2}at^2 $$\n",
    "\n",
    "### Functions\n",
    "\n",
    "Using the information above, write a series of functions that calculate the values of two unknown SUVAT variables when the values of the three other variables are known. Hint: start by considering how many unique combinations of three sub values of SUVAT there are.\n",
    "\n",
    "Each function should contain a print statement that outputs the calculated values. For example:"
   ]
  },
  {
   "cell_type": "code",
   "execution_count": 1,
   "id": "420001ba",
   "metadata": {},
   "outputs": [],
   "source": [
    "def function_one(s,u,v):\n",
    "    calculation\n",
    "    print(\"The value of a is \", a, \"ms^-2 and the value of t is \", t, \"s\") \n",
    "    return a,t "
   ]
  },
  {
   "cell_type": "markdown",
   "id": "60a183f1",
   "metadata": {},
   "source": [
    "### Modules\n",
    "\n",
    "Using the functions that you have defined above, create a SUVAT module that may be called into any script to allow you to quickly solve SUVAT equations. When creating your module you will want to create a “.py” file. To do this in CoCalc go to your directory and select the “new” button within the tool bar, then type the name of your module into the text field and select the Python extension from the drop down menu to the right of the text field.\n",
    "\n",
    "Call your module into the Jupyter Notebook named \"ModuleTest\" and use it to find the unknown values for the following combinations of SUVAT:\n",
    "\n",
    "![image](Wk2_Figures/SUVAT_Table.png)\n",
    "\n",
    "Congratulations! You have completed your first Python project!"
   ]
  },
  {
   "cell_type": "code",
   "execution_count": null,
   "id": "2aa3319d",
   "metadata": {},
   "outputs": [],
   "source": [
    "# Define SUVAT functions..."
   ]
  }
 ],
 "metadata": {
  "kernelspec": {
   "display_name": "Python 3",
   "language": "python",
   "name": "python3"
  },
  "language_info": {
   "codemirror_mode": {
    "name": "ipython",
    "version": 3
   },
   "file_extension": ".py",
   "mimetype": "text/x-python",
   "name": "python",
   "nbconvert_exporter": "python",
   "pygments_lexer": "ipython3",
   "version": "3.7.4"
  }
 },
 "nbformat": 4,
 "nbformat_minor": 5
}
