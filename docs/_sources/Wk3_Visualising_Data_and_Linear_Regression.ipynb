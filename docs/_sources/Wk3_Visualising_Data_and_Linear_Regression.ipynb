{
 "cells": [
  {
   "cell_type": "markdown",
   "id": "c46e61a3",
   "metadata": {},
   "source": [
    "# Visualising Data and Linear Regression\n",
    "\n",
    "As you progress through your degree program you will take part in lots of experiments and collect a vast amount of data. Typically data will initially be recorded in a well designed table and although having an initial record of our measured data is important (as we may need to refer back to it in the future), if I were to ask you to spot patterns in data from a table alone you may find this quite difficult. \n",
    "\n",
    "Take a look at the data below and try to quickly spot a pattern.\n",
    "\n",
    "![image](Wk3_Figures/RandomDataTable.png)\n",
    "\n",
    "Did you manage to spot the trends? Did it take less than a second or so? Probably not. \n",
    "\n",
    "Now let’s take a look at this data plotted using Python…\n",
    "\n",
    "![image](Wk3_Figures/RandomData.png)\n",
    "\n",
    "From the plot above it is immediately obvious that the first set of data follows a linear trend, the second follows a normal distribution, and the third is some sort of power law. \n",
    "\n",
    "When writing reports we want to show our data! It may be justifiable to add some of our data tables to an appendix at the end of the report, but generally the best way to present data is graphically.\n",
    "\n",
    "---\n",
    "## The Features of a High Quality Plot \n",
    "\n",
    "It is one thing to make a plot to visualise data, it is another thing to make a high-quality plot to visualise data. \n",
    "\n",
    "Imagine that we have performed an experiment to determine the Young's modulus of a wire. In the experiment we applied a range of tensile forces to a wire and measured the corresponding extension of the wire. Below are two plots that show visualisations of the measured data. \n",
    "\n",
    "Consider which of the two plots is the most visually appealing and why? I would hope that you agree that the second plot provides a better visual representation of our data.\n",
    "\n",
    "Bad Plot…\n",
    "![image](Wk3_Figures/BadPlot.png)\n",
    "\n",
    "Good Plot...\n",
    "![image](Wk3_Figures/GoodPlot.png)\n",
    "    \n",
    "Features of high quality plot:\n",
    "\n",
    "1. Data is centred and fills the plot.\n",
    "\n",
    "2. Descriptive axis titles with units are present.\n",
    "\n",
    "3. Data points are present and not joined up with a trendline.\n",
    "\n",
    "4. Associated errors are illustrated using error bars.\n",
    "\n",
    "5. A model fit is superimposed onto the data.\n",
    "\n",
    "6. A legend is present to differentiate between datasets / lines of best fit.\n",
    "\n",
    "Optional extras:\n",
    "\n",
    "7. Grid lines can be useful as a guide for the eyes.\n",
    "\n",
    "8. A concise but descriptive title may be appropriate, but more often than not a figure caption should be used, which negates the need to include a plot title.\n",
    "\n",
    "---\n",
    "## How Do We Make High Quality Plots in Python?\n",
    "\n",
    "Now that we have identified what features should be present in a plot, we will introduce the tools we need to make them in Python. We will be using a Python library called Matplotlib.pyplot. Prior to making a plot in Python, we may need to import our data from an external file. To do this we will use the numpy.loadtxt() function to import our data from a .csv file (comma separated value file).\n",
    "\n",
    "Firstly, let’s save our data as a .csv file. To do this enter your data into a spreadsheet such as Google Sheets or Microsoft Excel. If you are using Google Sheets, simply export the file as a .csv file, if you are using Excel, use save as to do the same.\n",
    "\n",
    "![image](Wk3_Figures/GoogleSheetsCSV.gif)\n",
    "![image](Wk3_Figures/MakeCSV.gif)\n",
    "\n",
    "Once you have made your csv file, move it into the same directory as the script you are going to use to plot the data contained within it. Next, we can import the data using the following section of code:"
   ]
  },
  {
   "cell_type": "code",
   "execution_count": 8,
   "id": "f2c01591",
   "metadata": {},
   "outputs": [],
   "source": [
    "import numpy as np\n",
    "import matplotlib.pyplot as plt\n",
    "\n",
    "force, errorForce, extension, errorExtension = np.loadtxt(\"Wk3_ForceExtensionData.csv\", delimiter = ',', unpack = True, skiprows = 1)"
   ]
  },
  {
   "cell_type": "markdown",
   "id": "7410964b",
   "metadata": {},
   "source": [
    "or alternatively..."
   ]
  },
  {
   "cell_type": "code",
   "execution_count": 9,
   "id": "a1117f8a",
   "metadata": {},
   "outputs": [],
   "source": [
    "data = np.loadtxt(\"Wk3_ForceExtensionData.csv\", delimiter = ',', unpack = False, skiprows = 1)\n",
    "\n",
    "force = data[:,0] # The first column in the data array\n",
    "errorForce = data[:,1] # The second column in the data array\n",
    "extension = data[:,2] # The third column in the data array\n",
    "errorExtension = data[:,3] # The fourth column in the data array"
   ]
  },
  {
   "cell_type": "markdown",
   "id": "705d4323",
   "metadata": {},
   "source": [
    "Note that when \"unpack = True\" there are four variables on the left hand side of the equal sign. This is because we are telling numpy to create an 1D array for each column of our csv file. Alternatively, we can set \"unpack = False\" which means that we can load the information from our csv file as a single array which we can then slice later. If needed, we could also directly enter our data into the Python script as a numpy array or list.\n",
    "\n",
    "The \"delimiter = ','\" argument simply tells numpy that when it is reading our csv file, the numbers are separated by commas. If we used a different file type (such as .txt) we may want to set that equal to something else. \n",
    "\n",
    "We have also included the argument \"skiprows = 1\", which tells numpy to ignore the first line of our csv file as this is just the column headings and not the data. We could omit this argument if we did not include the headings in our file.\n",
    "\n",
    "Now that we have successfully imported our data we can begin making a fitting script. To do this we are going to use plt.errorbar() (plots x-y data with error bars) and plt.plot() (plots x-y data without error bars). The information required to determine the gradient and intercept of your line of best fit via a manual regression can be found at the end of this document."
   ]
  },
  {
   "cell_type": "code",
   "execution_count": 10,
   "id": "a866c6d2",
   "metadata": {},
   "outputs": [
    {
     "data": {
      "image/png": "[encoded data removed]",
      "text/plain": [
       "<Figure size 432x288 with 1 Axes>"
      ]
     },
     "metadata": {
      "needs_background": "light"
     },
     "output_type": "display_data"
    }
   ],
   "source": [
    "# Plotting the raw data with error bars, and including arguements for the markers, \n",
    "# linestyle, label and color (US spelling - not colour!)\n",
    "plt.errorbar(force, extension, xerr = errorForce, yerr = errorExtension, marker = 'o', color = 'k', linestyle = ' ', label = 'Data')\n",
    "\n",
    "# Plotting our line of best fit (no markers & no error bars). Note that in this \n",
    "# example the xfit-coordinates and y-fit cordinates have not actually been defined. You will need to do this! \n",
    "# The numbers below are made up so the code works\n",
    "xfit = [0,45]\n",
    "yfit = [0,0.55]\n",
    "plt.plot(xfit, yfit, marker = None, linestyle = '--', label = 'Fit')\n",
    "\n",
    "# Setting the axis titles and plot title\n",
    "plt.xlabel('Force [N]')\n",
    "plt.ylabel('Extension [m]')\n",
    "plt.title('Wire Extension as a function of Tensile Force Applied')\n",
    "\n",
    "# Adding the legend and grid lines\n",
    "plt.legend()\n",
    "plt.grid()\n",
    "\n",
    "# Saving our figure as a png file so that we may use it later (do not take screenshots to use in reports!)\n",
    "plt.savefig(\"Force_Extension_Plot.png\", dpi = 500)\n",
    "\n",
    "# Getting Python to show us our plot. This MUST go at the end of our block of code! If not, it will show the plot before the code above has been read.\n",
    "plt.show()\n"
   ]
  },
  {
   "cell_type": "markdown",
   "id": "e8ca5363",
   "metadata": {},
   "source": [
    "That might look like a lot of code, but consider that that is all that is needed to produce a very high quality plot suitable for publication using Python. The graphing tools on spreadsheet software are also capable, but they can often be fiddly if you want to add error bars or change the colours of elements; using Python you can simply type the changes you want to make and run the code again!\n",
    "\n",
    "There are lots of customization options available using matplotlib.pyplot. For example, if you wish to change the shape, size, colour, fill etc. of the data points, or the weight, colour or type (solid, dashed, dotted) of the line of best fit, you can easily do this by adding/changing arguments in the code above. \n",
    "\n",
    "Do remember that stylistic choices should be appropriate so that it is not difficult to interpret information from the plot! (e.g. tiny neon green data markers on a light purple background, with a yellow line of best fit may be difficult to read…).\n",
    "\n",
    "Refer to the documentation below when making stylistic choices in your plots:\n",
    "\n",
    "1. [Markers](https://matplotlib.org/stable/api/markers_api.html)\n",
    "2. [Line styles](https://matplotlib.org/stable/gallery/lines_bars_and_markers/linestyles.html)\n",
    "3. [Colors](https://sites.google.com/view/paztronomer/blog/basic/python-colors)\n",
    "4. [Legend](https://matplotlib.org/stable/api/_as_gen/matplotlib.pyplot.legend.html)\n",
    "5. [Grid lines](https://matplotlib.org/stable/api/_as_gen/matplotlib.pyplot.grid.html)\n",
    "\n",
    "There are an endless number of tools available to change the appearance of a plot, but those are some useful ones to have handy! You will naturally come across more plotting tools as and when you need them.\n",
    "\n",
    "\n",
    "---\n",
    "## Making Plots with Subplots\n",
    "\n",
    "Often we would like to make a plot with multiple subplots. It is easy enough to do this using Python and we can reuse much of the code above (although there are some subtle changes we must take into account). \n",
    "\n",
    "Let’s once again consider our force-extension plot from above. You will notice that for every data point there is a small discrepancy between the point itself and the line of  best fit. This discrepancy is known as the residual, which may be either positive or negative depending on whether the data point sits below or above the line of best fit. In many areas of physics, it is common practice to plot the residuals for a given data set beneath the main plot. We will do this now using our understanding of loops!\n",
    "\n",
    "First of all, let’s make a loop to determine our residual for each data point:"
   ]
  },
  {
   "cell_type": "code",
   "execution_count": 11,
   "id": "84ca1747",
   "metadata": {},
   "outputs": [
    {
     "name": "stdout",
     "output_type": "stream",
     "text": [
      "[-0.0020000000000000018, -0.011333333333333334, -0.010666666666666672, 0.009999999999999981, 0.020666666666666667, 0.0013333333333332975, 0.011999999999999955, -0.007333333333333414, -0.00666666666666671, -0.006000000000000005]\n"
     ]
    }
   ],
   "source": [
    "slope = 0.011866666666666668 \n",
    "intercept = 0.0020000000000000018 #These values were determined from a linear regression.\n",
    "\n",
    "# Firstly, lets make an empty list to store our residual values in\n",
    "residuals = []\n",
    "for i in range(len(force)):\n",
    "    residual = extension[i] - ((force[i]*slope)+intercept)\n",
    "    residuals.append(residual)\n",
    "\n",
    "# The .append() function simply tells python to add what ever is in the bracket to the array it is attatched to (in this case residuals).\n",
    "\n",
    "print(residuals)"
   ]
  },
  {
   "cell_type": "markdown",
   "id": "beb70ff1",
   "metadata": {},
   "source": [
    "Now that the residuals have been calculated, we can make our subplot. "
   ]
  },
  {
   "cell_type": "code",
   "execution_count": 12,
   "id": "5a7a0db4",
   "metadata": {},
   "outputs": [
    {
     "data": {
      "image/png": "[encoded data removed]",
      "text/plain": [
       "<Figure size 576x576 with 2 Axes>"
      ]
     },
     "metadata": {
      "needs_background": "light"
     },
     "output_type": "display_data"
    }
   ],
   "source": [
    "# First we tell Python that we are making a figure with two plots (ax1 and ax2).\n",
    "# We have added additional arguements here, for example, we have said that we want \n",
    "#both plots to have a common x axis and that we want the ratio of the height of the \n",
    "# first plot to the second plot to be 4:1.5\n",
    "\n",
    "fig, (ax1, ax2) = plt.subplots(2, sharex=True, figsize = (8,8), gridspec_kw = {'height_ratios':[4,1.5]})\n",
    "\n",
    "# Next, we make our individual plots as we did before, but this time using ax1. rather than .plt.\n",
    "ax1.errorbar(force, extension, xerr = errorForce, yerr= errorExtension, linestyle='None', marker='o', label=\"Data\", )\n",
    "ax1.plot(xfit, yfit, marker = None, linestyle = '--', label = 'Fit')\n",
    "ax1.set_ylabel('Extension [m]')\n",
    "ax1.set_title('Wire Extension as a function of Tensile Force Applied')\n",
    "ax1.grid()\n",
    "ax1.legend(loc=2)\n",
    "\n",
    "# Now, moving on to the second axis.\n",
    "ax2.plot(force,residuals,linestyle='None', marker=\"o\", color = 'k')\n",
    "ax2.set_ylim(-0.02,0.02) # This changes the limits of the y-axis from the default.\n",
    "ax2.set_ylabel(\"Residual [m]\")\n",
    "ax2.grid()\n",
    "ax2.axhline(y=0, color='grey', linestyle='-') # This adds a grey horizontal line at y=0.\n",
    "\n",
    "# Methods common to both plots simply use .plt\n",
    "plt.xlabel(\"Frequency MHz\")\n",
    "plt.savefig(\"Force_Extension_Resid.png\", dpi = 500)\n",
    "plt.show()"
   ]
  },
  {
   "cell_type": "markdown",
   "id": "6a084279",
   "metadata": {},
   "source": [
    "...as you can see we can easily make plots with subplots using Python!\n",
    "\n",
    "We are not limited to making stacked subplots, we can have any number of subplots and arrange them within a grid. Try to identify the differences between the codes used to make each different type of subplot on the following website: Creating multiple subplots using Python. \n",
    "\n",
    "Alternatively, we can create subplots using [.add_subplot()](https://matplotlib.org/stable/api/_as_gen/matplotlib.pyplot.subplot.html). This method does not constrain us to arranging our plots in a grid e.g. we may position 2 stacked plots on the left and a single larger plot on the right. Take a look [here](https://matplotlib.org/stable/gallery/subplots_axes_and_figures/axes_margins.html#sphx-glr-gallery-subplots-axes-and-figures-axes-margins-py) and at the following example of how to do this:"
   ]
  },
  {
   "cell_type": "code",
   "execution_count": 13,
   "id": "26890484",
   "metadata": {
    "scrolled": true
   },
   "outputs": [
    {
     "data": {
      "image/png": "[encoded data removed]",
      "text/plain": [
       "<Figure size 864x864 with 3 Axes>"
      ]
     },
     "metadata": {
      "needs_background": "light"
     },
     "output_type": "display_data"
    }
   ],
   "source": [
    "# Firstly, lets set the size of our figure. \n",
    "fig=plt.figure(figsize=(12,12))\n",
    "\n",
    "# Next we can add our subplots and using add_subplot(XYZ) define the placement of the subplots.\n",
    "ax1=fig.add_subplot(221)\n",
    "ax2=fig.add_subplot(222)\n",
    "ax3=fig.add_subplot(212)\n",
    "plt.show()"
   ]
  },
  {
   "cell_type": "markdown",
   "id": "a0669ef2",
   "metadata": {},
   "source": [
    "---\n",
    "## Simple Linear Regression (Suplimentary)\n",
    "\n",
    "During your career as a physicist, you will routinely fit models to experimental data in order to extract information from it. In this section we will discuss the different types of fitting routines commonly employed and when it is most appropriate to use each type. We will focus on three main fitting routines: simple linear regression, weighted least squares, and orthogonal distance regression (ODR).\n",
    "\n",
    "### Part 1: Simple Linear Regression\n",
    "\n",
    "A simple linear regression is a special case of least squares fitting (often referred to as \"ordinary least squares\") and is the routine employed when the model we are fitting to our data is linear i.e. fitting a line of best fit. When using a simple linear regression, we make the assumption that the data has no associated error or that the errors are equal for each data point (this is often referred to as homoscedasticity). \n",
    "\n",
    "Lets begin by generating some linear data. We will add some noise to this data so that it is more representative of the type of data we would obtain from experimentation. "
   ]
  },
  {
   "cell_type": "code",
   "execution_count": 14,
   "id": "2144243e",
   "metadata": {},
   "outputs": [
    {
     "data": {
      "image/png": "[encoded data removed]",
      "text/plain": [
       "<Figure size 432x288 with 1 Axes>"
      ]
     },
     "metadata": {
      "needs_background": "light"
     },
     "output_type": "display_data"
    }
   ],
   "source": [
    "import numpy as np\n",
    "import matplotlib.pyplot as plt\n",
    "\n",
    "#Generating our xData\n",
    "xData = np.linspace(0,20,21)\n",
    "\n",
    "#Generating our noisy yData\n",
    "yData = 5*xData + 15\n",
    "noise = np.random.normal(0,5,21)\n",
    "yData = yData + noise\n",
    "\n",
    "#Plotting our data\n",
    "plt.scatter(xData, yData, marker = 'o', color = 'r')\n",
    "plt.xlabel('xData')\n",
    "plt.ylabel('yData')\n",
    "plt.grid()\n",
    "plt.show()"
   ]
  },
  {
   "cell_type": "markdown",
   "id": "4c3eb848",
   "metadata": {},
   "source": [
    "If we then use the linear regression tool from scipy.states, we would obtain the following fit:"
   ]
  },
  {
   "cell_type": "markdown",
   "id": "63cc21e8",
   "metadata": {},
   "source": [
    "### Part 2: What is the linregress function actually doing?\n",
    "\n",
    "We now have a line of best fit determined computationally, but what were the calculations performed by the scipy.stats.linregress function when doing so? Lets first consider the model that we are aiming to fit, a straight line given by:\n",
    "\n",
    "\\begin{equation}\n",
    "    y = mx+c, \n",
    "\\end{equation}\n",
    "\n",
    "where $x$ represents an independent variable, $y$ represents a dependant variable, and $m$ and $c$ represent the gradient and intercept of the line of best fit, respectively. In this example, we know what the values of $x$ and $y$ are and we are trying to determine appropriate values for $m$ and $c$. \n",
    "\n",
    "With reference to the annotated plot below, we can see that for a given line of best fit, there is a vertical separation between each data point and the line. The discrepancies between the model line of best fit and data points are called the residuals. The least-squares fitting routine minimises the square of the residuals. We use the sum of the square rather than just the sum as some points lie below the line of best fit and others lie above, therefore if we were to just use the sum these values would cancel out and give a value close to zero.\n",
    "\n",
    "![image](Wk3_Figures/SLR_plot_annotated.png)\n",
    "\n",
    "The calculations to determine the value of gradient and intercept by minimising the sum of the squared residual values using the simple linear regression model are as follows:\n",
    "\n",
    "\\begin{equation}\n",
    "    m = \\frac{N\\sum{x \\cdot y} + \\sum{x} \\cdot\\sum{y}}{N\\sum{\\left(x^2\\right)} - \\sum{\\left(x\\right)}^2},\n",
    "\\end{equation}\n",
    "\n",
    "where $N$ is the number of data points, and:\n",
    "\n",
    "\\begin{equation}\n",
    "    c = \\frac{\\sum{y} - m \\cdot \\sum{x}}{N}.\n",
    "\\end{equation}\n",
    "\n",
    "Lets perform the calculations above to derive values for the gradient and intercept of the line of best fit for our noisy data: "
   ]
  },
  {
   "cell_type": "code",
   "execution_count": 15,
   "id": "4b2c6eec",
   "metadata": {},
   "outputs": [
    {
     "data": {
      "image/png": "[encoded data removed]",
      "text/plain": [
       "<Figure size 432x288 with 1 Axes>"
      ]
     },
     "metadata": {
      "needs_background": "light"
     },
     "output_type": "display_data"
    }
   ],
   "source": [
    "# Performing the calculations used to determine the gradient:\n",
    "N_sum_xy = len(xData)*np.sum(xData * yData) \n",
    "sum_x_sum_y = np.sum(xData)*np.sum(yData) \n",
    "N_sum_xsquared = len(xData)*np.sum(xData**2) \n",
    "sum_x_squared = np.sum(xData)**2 \n",
    "\n",
    "gradient = (N_sum_xy - sum_x_sum_y)/(N_sum_xsquared - sum_x_squared)\n",
    "\n",
    "#Performing the calculations used to determine the intercept:\n",
    "sum_y = np.sum(yData) \n",
    "sum_x = np.sum(xData)\n",
    "    \n",
    "intercept = (sum_y - gradient*sum_x)/len(xData)\n",
    "\n",
    "#Plotting the data, line of best fit, and an annotation containing the gradient and intercept:  \n",
    "plt.scatter(xData, yData, marker = 'o', color = 'r')\n",
    "plt.plot(xData, gradient*xData + intercept, color ='k', linestyle = '--')\n",
    "plt.xlabel('xData')\n",
    "plt.ylabel('yData')\n",
    "\n",
    "txt = str('The gradient is: ' + str(\"{:.3f}\".format(gradient)) + '.' + '\\n' + \n",
    "          'The intercept is: '+ str(\"{:.3f}\".format(intercept)) + '.')\n",
    "plt.text(0, max(yData)-8, txt, wrap=True, horizontalalignment='left', fontsize=10, \n",
    "         bbox=dict(facecolor='lightgrey', edgecolor='k', pad=5.0))\n",
    "\n",
    "plt.grid()\n",
    "plt.show()"
   ]
  },
  {
   "cell_type": "code",
   "execution_count": 16,
   "id": "78861ade",
   "metadata": {},
   "outputs": [
    {
     "data": {
      "image/png": "[encoded data removed]",
      "text/plain": [
       "<Figure size 432x288 with 1 Axes>"
      ]
     },
     "metadata": {
      "needs_background": "light"
     },
     "output_type": "display_data"
    }
   ],
   "source": [
    "import scipy.stats as stats\n",
    "\n",
    "#Performing the linear regression using the linregress function\n",
    "FitResults = stats.linregress(xData, yData)\n",
    "\n",
    "#Plotting the data, line of best fit, and an annotation containing the gradient and intercept: \n",
    "plt.scatter(xData, yData, marker = 'o', color = 'r')\n",
    "plt.plot(xData, FitResults.slope*xData + FitResults.intercept, color ='k')\n",
    "plt.xlabel('xData')\n",
    "plt.ylabel('yData')\n",
    "\n",
    "txt = str('The gradient is: ' + str(\"{:.3f}\".format(FitResults.slope)) + '.' + '\\n' + \n",
    "          'The intercept is: '+ str(\"{:.3f}\".format(FitResults.intercept)) + '.')\n",
    "plt.text(0, max(yData)-8, txt, wrap=True, horizontalalignment='left', fontsize=10, bbox=dict(facecolor='lightgrey', edgecolor='k', pad=5.0))\n",
    "\n",
    "plt.grid()\n",
    "plt.show()"
   ]
  },
  {
   "cell_type": "markdown",
   "id": "c334328c",
   "metadata": {},
   "source": [
    "From the figure above, it is apparent that the line of best fit we have calculated is the same as the one calculated by the scipy.stats.linregress function. We now understand what this function is doing!"
   ]
  },
  {
   "cell_type": "markdown",
   "id": "86ee0303",
   "metadata": {},
   "source": [
    "### Part 3: Where did our equations come from?\n",
    "\n",
    "In our example above we simply stated what the equations used to determine our optimal value of the gradient and intercept were, but we proivded no explaination as to how these equations were derived. This will be explained in this section. \n",
    "\n",
    "Note: An understanding of partial differention is required to perform this derivation.\n",
    "\n",
    "Once again we are going to consider this idea of the residual, we defined this earlier as the difference between the line of best fit and any given data point. Written mathematically this may be expressed as:\n",
    "\n",
    "\\begin{equation}\n",
    "R = y_{data}-y_{model},\n",
    "\\end{equation}\n",
    "\n",
    "which may also be expressed as:\n",
    "\n",
    "\\begin{equation}\n",
    "R = y_{data} - (m*x + c),\n",
    "\\end{equation}\n",
    "\n",
    "where $m$ and $c$ are the gradient and intercept determined by our linear regression. Now we can consider the sum of the squared residuals:\n",
    "\n",
    "\\begin{equation}\n",
    "\\sum{R^{2}}= \\sum{[y_{data} - (mx + c)]^{2}}.\n",
    "\\end{equation}\n",
    "\n",
    "In a simple linear regression, we want to minimise the value of the sum of the squared residuals. How do we do this? Another way to say this is we want to find the minimum of the function, which suggests that we need to do some differentiation! In this case we are going to take the partial derivatives of the function with respect to the terms we are trying to minimise $m$ and $c$:\n",
    "\n",
    "<font color=blue>\\begin{equation}\n",
    "\\frac{\\partial \\sum R^{2}}{\\partial m}= \\sum \\frac{\\partial}{\\partial m} \\left([y_{data} - (mx + c)]^{2} \\right)\n",
    "\\end{equation}</font>\n",
    "\n",
    "We can solve this partial differential by using the chain rule: We will bring down the power and then multiply by the partial differential of what is inside the brackets:\n",
    "\n",
    "<font color=blue>\\begin{equation}\n",
    "\\frac{\\partial \\sum R^{2}}{\\partial m}= \\sum{2 \\cdot [y_{data} - (mx + c)]\\cdot -x}\n",
    "\\end{equation}</font>\n",
    "\n",
    "Similarly, when taking the partial differential with respect to $c$ we get:\n",
    "\n",
    "<font color=green>\\begin{equation}\n",
    "\\frac{\\partial \\sum R^{2}}{\\partial c}= \\sum \\frac{\\partial}{\\partial c} \\left([y_{data} - (mx + c)]^{2} \\right) = \\sum{2\\cdot [y_{data} - (mx + c)]\\cdot -1}\n",
    "\\end{equation}</font>\n",
    "\n",
    "Next, as we want to find the values of $m$ and $c$ when the function is at a minimum, we set the partial differentials equal to zero:\n",
    "\n",
    "<font color=blue>\\begin{equation}\n",
    "-2\\sum{[y_{data} - (mx + c)]\\cdot x} = 0,\n",
    "\\end{equation}</font>\n",
    "    \n",
    "and\n",
    "\n",
    "<font color=green>\\begin{equation}\n",
    "-2 \\sum{[y_{data} - (mx + c)]} = 0.\n",
    "\\end{equation}</font>\n",
    "\n",
    "Finally, we solve these simeltanous equations to determine the values of $m$ and $c$. Let's begin by rewriting our equations so that they are easier to solve. The $-2$ terms disappear when we set the equations equal to zero:\n",
    "\n",
    "<font color=blue>\\begin{equation}\n",
    "\\left(\\sum{y_{data}} -\\sum{mx} -\\sum{c}\\right)x = 0,\n",
    "\\end{equation}</font>\n",
    "\n",
    "and\n",
    "\n",
    "<font color=green>\\begin{equation}\n",
    "\\sum{y_{data}} -\\sum{mx} -\\sum{c} = 0.\n",
    "\\end{equation}</font>\n",
    "\n",
    "As $m$ and $c$ are constants, they may be taken out of the summations, such that:\n",
    "\n",
    "\n",
    "<font color=blue>\\begin{equation}\n",
    "\\left(\\sum{y_{data}} -m\\sum{x} -(n\\cdot c)\\right)x = 0,\n",
    "\\end{equation}</font>\n",
    "\n",
    "and\n",
    "\n",
    "<font color=green>\\begin{equation}\n",
    "\\sum{y_{data}} -m\\sum{x} -(n\\cdot c) = 0.\n",
    "\\end{equation}</font>\n",
    "\n",
    "Therefore, our equation for the intercept becomes:\n",
    "\n",
    "<font color=green>\\begin{equation}\n",
    "c = \\frac{\\sum{y_{data}}}{n} - \\frac{m\\sum{x}}{n}.\n",
    "\\end{equation}</font>\n",
    "\n",
    "which is equal to the equation we used in the previous section to determine our value of the intercept:\n",
    "\n",
    "<font color=green>\\begin{equation}\n",
    "c = \\frac{\\sum{y_{data}} - m\\sum{x}}{n}.\n",
    "\\end{equation}</font>\n",
    "\n",
    "As the sum of the a set of values divided by the number of values is equal to the average value, the expression above can be expressed in terms of the mean values of y and x, $\\bar{y}$ and $\\bar{x}$, respectively:\n",
    "\n",
    "<font color=green>\\begin{equation}\n",
    "c = \\bar{y} - m \\cdot \\bar{x}.\n",
    "\\end{equation}</font>\n",
    "\n",
    "Using the expression for the intercept, we are able to determine a value for our gradient:\n",
    "\n",
    "<font color=blue>\\begin{equation}\n",
    "\\sum{[y_{data} - (mx + \\bar{y} - m \\cdot \\bar{x})]\\cdot x} = 0,\n",
    "\\end{equation}</font>\n",
    "\n",
    "<font color=blue>\\begin{equation}\n",
    "\\sum{[y_{data} - \\bar{y} - m(x - \\bar{x})]\\cdot x} = 0.\n",
    "\\end{equation}</font>\n",
    "\n",
    "We may then solve the equation for m:\n",
    "\n",
    "<font color=blue>\\begin{equation}\n",
    "\\sum{x(y_{data} - \\bar{y})} - mx \\sum{(x - \\bar{x})} = 0,\n",
    "\\end{equation}</font>\n",
    "\n",
    "<font color=blue>\\begin{equation}\n",
    "\\sum{x(y_{data} - \\bar{y})} = mx \\sum{(x - \\bar{x})},\n",
    "\\end{equation}</font>\n",
    "\n",
    "<font color=blue>\\begin{equation}\n",
    "m=\\frac{x\\sum{(y_{data} - \\bar{y})}} {x\\sum{(x - \\bar{x})}},\n",
    "\\end{equation}</font>\n",
    "\n",
    "which may be shown to be equal to the equation we used in the previous section to determine our value of the gradient:\n",
    "\n",
    "<font color=blue>\\begin{equation}\n",
    " m = \\frac{N\\sum{x \\cdot y} + \\sum{x} \\cdot\\sum{y}}{N\\sum{\\left(x^2\\right)} - \\sum{\\left(x\\right)}^2}.\n",
    "\\end{equation}</font>"
   ]
  },
  {
   "cell_type": "markdown",
   "id": "a96034a4",
   "metadata": {},
   "source": [
    "---\n",
    "## Activities\n",
    "\n",
    "### Plotting Functions\n",
    "\n",
    "Many of the topics that we come across in physics may come across as rather abstract, for example we will often look at relationships between variables that are described by equations too complex to visualise in our heads. In these instances, it may be useful to plot the equation and change the value of each variable to gain a better understanding of the relationship being described. \n",
    "\n",
    "In this activity, we will compound our learning of functions from last week and exercise our new understanding of how to visualise data. For each of the relationships below, define a function, and for a series of x values plot the corresponding y values. For each relationship, also plot (on the same set of axes) the function again, but this time having modified one or more variables. Ensure that the plots you create have the features of a high quality plot. \n",
    "\n",
    "Please define functions for and plot the relationships outlined below.\n",
    "\n",
    "**1. Straight Line of Best Fit.**\n",
    "\n",
    "This is what you will use most frequently during your first year experimental lab:\n",
    "\n",
    "$$ y(x) = mx +c $$\n",
    "\n",
    "where $ m $ and $ c $ are the gradient and intercept of the line of best fit, respectively. "
   ]
  },
  {
   "cell_type": "code",
   "execution_count": null,
   "id": "3907a627",
   "metadata": {},
   "outputs": [],
   "source": [
    "import matplotlib.pyplot as plt\n",
    "import numpy as np\n",
    "\n",
    "# Straight line of best fit task\n",
    "\n",
    "# Define function\n",
    "\n",
    "# Plot function"
   ]
  },
  {
   "cell_type": "markdown",
   "id": "aa449eb1",
   "metadata": {},
   "source": [
    "**2. The Gaussian Distribution**\n",
    "\n",
    "This is the normal distribution discussed in week one when considering normal statistics (mean, standard deviation and standard error):\n",
    "\n",
    " $$ f(x) = a \\exp{-\\frac{(x-b)^2}{2c^2}}  $$\n",
    "\n",
    "where $a$ is the height of the distribution, $b$ is the mean value of the distribution, and $c$ is the standard deviation of the distribution."
   ]
  },
  {
   "cell_type": "code",
   "execution_count": null,
   "id": "67778296",
   "metadata": {},
   "outputs": [],
   "source": [
    "# Gaussian distribution task\n",
    "\n",
    "# Define function\n",
    "\n",
    "# Plot function"
   ]
  },
  {
   "cell_type": "markdown",
   "id": "873b85af",
   "metadata": {},
   "source": [
    "**3. The Maxwell-Boltzmann distribution**\n",
    "\n",
    "This equation was introduced in your thermal physics lectures. It is a probability distribution that describes the probability that a molecule has a particular speed for a given molecular mass and temperature: \n",
    "\n",
    "$$ f(v) = \\frac{4}{\\sqrt{\\pi}} \\left(\\frac{m}{2k_BT}\\right)^{3/2}  v^2 \\exp{\\frac{-mv^2}{2k_BT}}$$\n",
    "\n",
    "where $ m $ is the mass of the molecule, $ T $ is the temperature, $ v $ is the velocity of the molecule, and $ k_B $ is the Boltzmann constant. "
   ]
  },
  {
   "cell_type": "code",
   "execution_count": 3,
   "id": "5ce068fb",
   "metadata": {},
   "outputs": [],
   "source": [
    "# Maxwell-Boltzmann task\n",
    "\n",
    "# Define function\n",
    "\n",
    "# Plot function"
   ]
  },
  {
   "cell_type": "markdown",
   "id": "404f3721",
   "metadata": {},
   "source": [
    "**4. The Projectile Equation**\n",
    "\n",
    "This was introduced in your very first mechanics lecture. It allows you to determine the vertical height of a projectile, $y$, at a given horizontal distance  from the projectile origin, $x$: \n",
    "\n",
    "$$ y(x) = x \\tan(\\theta) - \\frac{gx^2}{2v_0^2\\cos^2(\\theta)} $$\n",
    "\n",
    "where $g$ is acceleration due to gravity and  $\\theta$ is the angle, relative to the horizontal plane, that the projectile is launched at."
   ]
  },
  {
   "cell_type": "code",
   "execution_count": 4,
   "id": "57f47966",
   "metadata": {},
   "outputs": [],
   "source": [
    "# Projectile Equation task\n",
    "\n",
    "# Define function\n",
    "\n",
    "# Plot function"
   ]
  },
  {
   "cell_type": "markdown",
   "id": "8237f113",
   "metadata": {},
   "source": [
    "### Fitting and Plotting Data\n",
    "\n",
    "Two sets of linear data have been provided. You are tasked with performing a manual regression for each dataset using whatever tool you feel most comfortable using (i.e. you may wish to define a function to perform the regression or perform the calculation in a spreadsheet/generally using Python). \n",
    "\n",
    "Once you have performed the regression and determined values for the gradients and intercepts, create two plots in the same figure using subplots, one for each dataset. Each subplot should contain the raw data, the line of best fit and all of the features of a high quality plot. \n",
    "\n",
    "*Hint: when adding the line of best fits to the plot you may wish to use the straight line function you defined in the previous task.*\n"
   ]
  },
  {
   "cell_type": "code",
   "execution_count": 5,
   "id": "f72de58c",
   "metadata": {},
   "outputs": [],
   "source": [
    "# Fitting and Plotting Task\n",
    "\n",
    "# Import data\n",
    "\n",
    "# Manual regression / define fitting function\n",
    "\n",
    "# Plot data and lines of best fit on subplots."
   ]
  }
 ],
 "metadata": {
  "kernelspec": {
   "display_name": "Python 3",
   "language": "python",
   "name": "python3"
  },
  "language_info": {
   "codemirror_mode": {
    "name": "ipython",
    "version": 3
   },
   "file_extension": ".py",
   "mimetype": "text/x-python",
   "name": "python",
   "nbconvert_exporter": "python",
   "pygments_lexer": "ipython3",
   "version": "3.7.4"
  }
 },
 "nbformat": 4,
 "nbformat_minor": 5
}
