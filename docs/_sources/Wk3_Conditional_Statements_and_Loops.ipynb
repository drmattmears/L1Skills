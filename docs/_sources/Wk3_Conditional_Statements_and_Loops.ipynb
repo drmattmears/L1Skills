{
 "cells": [
  {
   "cell_type": "markdown",
   "id": "0e671a32",
   "metadata": {},
   "source": [
    "# Conditional Statements and Loops\n",
    "---\n",
    "## Learning Objectives:\n",
    "\n",
    "- To have an understanding of and be able to use loops and conditional statements.\n",
    "\n",
    "\n",
    "- Have an appreciation of why we must make data visually accessible.\n",
    "\n",
    "\n",
    "- To know what features need to be present on a high quality plot. \n",
    "\n",
    "\n",
    "- Be able to create high quality plots using the Matplotlib.pyplot library.\n",
    "\n",
    "\n",
    "- To be able to plot a function.\n",
    "\n",
    "\n",
    "- To be able to plot multiple plots on the same canvas\n",
    "\n",
    "\n",
    "---\n",
    "## Overview\n",
    "\n",
    "In this session you will be introduced to the concepts of conditional statements and loops. You will learn how to use if, and, else, elseif statements and for and while loops. We are going to understand why we may wish to make graphical representations of data, have an awareness of the features that must be present on a high-quality plot, and then learn how to make high-quality 2D plots using Python. "
   ]
  },
  {
   "cell_type": "markdown",
   "id": "dd882757",
   "metadata": {},
   "source": [
    "---\n",
    "## Conditional Statements\n",
    "\n",
    "Often when we are coding we want the computer to make decisions for us. For example, when boiling a kettle, we would like the kettle to know when to stop supplying energy to the water.  In this example, we would get the kettle to ask itself “is the water at boiling point?” - if the answer is yes then it should turn off, if the answer is no it should not turn off.\n",
    "\n",
    "### Single Conditions\n",
    "\n",
    "All of the conditions that we define are either True or False - these are boolean types. We can use if, else and elif (else if) statements to control tasks on the basis of if a condition is true or false. \n",
    "\n",
    "The simplest example of checking conditions is comparing numbers."
   ]
  },
  {
   "cell_type": "code",
   "execution_count": 1,
   "id": "dbc9a883",
   "metadata": {},
   "outputs": [
    {
     "name": "stdout",
     "output_type": "stream",
     "text": [
      "True\n",
      "False\n",
      "True\n"
     ]
    }
   ],
   "source": [
    "# First, let's check if the following statements are true or false:\n",
    "\n",
    "print(1==1)\n",
    "print(1==2)\n",
    "print(1<2)\n",
    "\n",
    "# The notation for different conditional operators are as follow:\n",
    "# \"==\" - is equal to\n",
    "# \"!=\" - is not equal to\n",
    "# \"<\" - is less than \n",
    "# \"<=\" - is less than or equal to\n",
    "# \">\" - is greater than\n",
    "# \">=\" - is greater than or equal to"
   ]
  },
  {
   "cell_type": "markdown",
   "id": "e78f55c0",
   "metadata": {},
   "source": [
    "Once we are able to determine if conditions are true or false, we can get Python to perform tasks using conditional statements. For example, below is an example of how we may use if and else statements:"
   ]
  },
  {
   "cell_type": "code",
   "execution_count": 2,
   "id": "706a7155",
   "metadata": {},
   "outputs": [
    {
     "name": "stdout",
     "output_type": "stream",
     "text": [
      "a is smaller than b\n"
     ]
    }
   ],
   "source": [
    "a = 6\n",
    "b = 10\n",
    "\n",
    "if a > b:\n",
    "    print(\"a is larger than b\")\n",
    "else:\n",
    "    print(\"a is smaller than b\")"
   ]
  },
  {
   "cell_type": "markdown",
   "id": "a28972c0",
   "metadata": {},
   "source": [
    "In the example above, Python checks if the first statement is true, if it is, the computer will print “a is larger than b”, but if it is false, it will print “a is smaller than b”. The example is great if a and b are different numbers, but there is no command for the computer to follow if they are the same number. We can use an elif statement to correct this:"
   ]
  },
  {
   "cell_type": "code",
   "execution_count": 3,
   "id": "845058b3",
   "metadata": {},
   "outputs": [
    {
     "name": "stdout",
     "output_type": "stream",
     "text": [
      "a is smaller than b\n"
     ]
    }
   ],
   "source": [
    "a = 6\n",
    "b = 10\n",
    "\n",
    "if a > b:\n",
    "    print(\"a is larger than b\")\n",
    "elif a == b: #elif checks if a second condition is True\n",
    "    print(\"a and b are the same number\")\n",
    "else:\n",
    "    print(\"a is smaller than b\") "
   ]
  },
  {
   "cell_type": "markdown",
   "id": "8836e32e",
   "metadata": {},
   "source": [
    "Now Python will first check the first statement to determine if a is larger than b, if this is not true it will then go to check the second statement to determine if a and b are equal. If neither of these statements are true, the third statement must be and the computer will tell us that “a is smaller than b”."
   ]
  },
  {
   "cell_type": "markdown",
   "id": "c4ddffae",
   "metadata": {},
   "source": [
    "### Multiple Conditions\n",
    "\n",
    "It is often the case that we will want to get the computer to do things only if multiple conditions are true, or if one of many possible conditions are true. We do this all the time in real life, for example, I may get my phone to remind me to pay my credit card bill if: \n",
    "\n",
    "the payment is due today and my balance is greater than £0\n",
    "\n",
    "or \n",
    "\n",
    "it’s payday and my balance is greater than £0.\n",
    "\n",
    "From the example above, the logic behind the decision as to whether to remind me to pay my credit card bill or not is clear. In either case, I will not receive a reminder if my balance is clear and I have nothing to pay, however if I have an outstanding balance I should be reminded to pay it if the payment is due (to avoid additional charges) or if it is payday (and I am settling my monthly finances).\n",
    "\n",
    "In Python, we can apply the same logic using and and or statements:"
   ]
  },
  {
   "cell_type": "code",
   "execution_count": 4,
   "id": "140defa6",
   "metadata": {},
   "outputs": [],
   "source": [
    "a = 5\n",
    "b = 2\n",
    "c = 3\n",
    "d = 7"
   ]
  },
  {
   "cell_type": "code",
   "execution_count": 7,
   "id": "15154cd9",
   "metadata": {},
   "outputs": [
    {
     "name": "stdout",
     "output_type": "stream",
     "text": [
      "All of the conditions are True.\n"
     ]
    }
   ],
   "source": [
    "# Using an \"and\" statement:\n",
    "if a > b and c < d:\n",
    "    print(\"All of the conditions are True.\")\n",
    "else:\n",
    "    print(\"At least of the conditions is not True.\")"
   ]
  },
  {
   "cell_type": "code",
   "execution_count": 8,
   "id": "13e759af",
   "metadata": {},
   "outputs": [
    {
     "name": "stdout",
     "output_type": "stream",
     "text": [
      "At least one of the conditions is true\n"
     ]
    }
   ],
   "source": [
    "# Using an \"or\" statement: \n",
    "if a < b or c < d:\n",
    "    print(\"At least one of the conditions is true\")\n",
    "else:\n",
    "    print(\"Neither of the conditions are true\")"
   ]
  },
  {
   "cell_type": "code",
   "execution_count": 10,
   "id": "9429c72f",
   "metadata": {},
   "outputs": [
    {
     "name": "stdout",
     "output_type": "stream",
     "text": [
      "At least one of the conditions is true\n"
     ]
    }
   ],
   "source": [
    "# We can combine \"and\" and \"or\" statements:\n",
    "if (a == 5 and b == 2) or (c == 4 and d == 3):\n",
    "    print(\"At least one of the conditions is true\") \n",
    "else:\n",
    "    print(\"Neither of the conditions are true\") "
   ]
  },
  {
   "cell_type": "markdown",
   "id": "f0b6c3ee",
   "metadata": {},
   "source": [
    "---\n",
    "## Loops\n",
    "\n",
    "As mentioned in week 1, one of the main reasons we use computers is to get them to do all of the boring repetitive tasks we don’t want to do. When we are coding, we can tell the computer to iterate a task by using loops. There are two loops to be aware of: for loops and while loops. \n",
    "\n",
    "### While Loops\n",
    "\n",
    "A while loop allows us to iterate through a task until a condition is no longer met. In the example below, each time the loop runs it will print the value of count and add 1 to it. It will continue to do this until count = 15."
   ]
  },
  {
   "cell_type": "code",
   "execution_count": 1,
   "id": "eaa2d6a2",
   "metadata": {},
   "outputs": [
    {
     "name": "stdout",
     "output_type": "stream",
     "text": [
      "0\n",
      "1\n",
      "2\n",
      "3\n",
      "4\n",
      "5\n",
      "6\n",
      "7\n",
      "8\n",
      "9\n",
      "10\n",
      "11\n",
      "12\n",
      "13\n",
      "14\n",
      "Task completed.\n"
     ]
    }
   ],
   "source": [
    "count = 0\n",
    "\n",
    "while count < 15:\n",
    "\tprint(count)\n",
    "\tcount = count + 1\n",
    "print('Task completed.')"
   ]
  },
  {
   "cell_type": "markdown",
   "id": "6f3467ef",
   "metadata": {},
   "source": [
    "This was a nice and simple loop, however sometimes the tasks we are doing may be more complex and we do not know what criteria will be required for the loop to end. In some instances the loop may run indefinitely. For this reason, we can add a break statement in the loop:"
   ]
  },
  {
   "cell_type": "code",
   "execution_count": 2,
   "id": "f53d32e6",
   "metadata": {},
   "outputs": [
    {
     "name": "stdout",
     "output_type": "stream",
     "text": [
      "0\n",
      "1\n",
      "2\n",
      "3\n",
      "4\n",
      "5\n",
      "6\n",
      "7\n",
      "8\n",
      "9\n",
      "10\n",
      "11\n",
      "12\n",
      "13\n",
      "14\n",
      "15\n",
      "16\n",
      "17\n",
      "18\n",
      "19\n",
      "20\n",
      "The loop has been terminated\n",
      "Task completed.\n"
     ]
    }
   ],
   "source": [
    "count = 0\n",
    "\n",
    "while count >= 0:\n",
    "    print(count)\n",
    "    if count == 20:\n",
    "        print(\"The loop has been terminated\")\n",
    "        break\n",
    "    count = count + 1\n",
    "print('Task completed.')"
   ]
  },
  {
   "cell_type": "markdown",
   "id": "7e8d70f4",
   "metadata": {},
   "source": [
    "### For Loops\n",
    "\n",
    "The next loop we are going to take a look at is the for loop. The for loop again allows us to repeat a task as we iterate through a range of values or series of variables. For example, we can iterate through a list and print each item within in it:"
   ]
  },
  {
   "cell_type": "code",
   "execution_count": 4,
   "id": "7e263dc4",
   "metadata": {},
   "outputs": [
    {
     "name": "stdout",
     "output_type": "stream",
     "text": [
      "Trying\n",
      "to\n",
      "catch\n",
      "moonbeams\n",
      "with\n",
      "a\n",
      "butterfly\n",
      "net\n"
     ]
    }
   ],
   "source": [
    "items = [\"Trying\",\"to\",\"catch\",\"moonbeams\",\"with\",\"a\", \"butterfly\", \"net\"]\n",
    "for word in items:\n",
    "    print(word)"
   ]
  },
  {
   "cell_type": "markdown",
   "id": "26c8fe15",
   "metadata": {},
   "source": [
    "How about an example with a calculation?"
   ]
  },
  {
   "cell_type": "code",
   "execution_count": 5,
   "id": "bf8a7499",
   "metadata": {},
   "outputs": [
    {
     "name": "stdout",
     "output_type": "stream",
     "text": [
      "1\n",
      "4\n",
      "9\n",
      "16\n",
      "25\n"
     ]
    }
   ],
   "source": [
    "numbers = [1,2,3,4,5]\n",
    "for i in numbers:\n",
    "    value = i**2\n",
    "    print(value)"
   ]
  },
  {
   "cell_type": "markdown",
   "id": "d92f19f9",
   "metadata": {},
   "source": [
    "Perhaps we wish to use the index location in our loop.."
   ]
  },
  {
   "cell_type": "code",
   "execution_count": 6,
   "id": "32b7d5d7",
   "metadata": {},
   "outputs": [
    {
     "name": "stdout",
     "output_type": "stream",
     "text": [
      "to\n",
      "catch\n",
      "moonbeams\n",
      "with\n",
      "a\n"
     ]
    }
   ],
   "source": [
    "for i in numbers:\n",
    "    print(items[i])"
   ]
  },
  {
   "cell_type": "markdown",
   "id": "b1855eaa",
   "metadata": {},
   "source": [
    "Often we will want a task to be repeated a set number of times. We can use the range and enumerate commands to do this. "
   ]
  },
  {
   "cell_type": "code",
   "execution_count": 8,
   "id": "52d41818",
   "metadata": {},
   "outputs": [
    {
     "name": "stdout",
     "output_type": "stream",
     "text": [
      "0\n",
      "1\n",
      "2\n",
      "3\n",
      "4\n",
      "5\n",
      "6\n",
      "7\n",
      "8\n",
      "9\n",
      " \n",
      "1\n",
      "3\n",
      "5\n",
      "7\n",
      "9\n",
      "11\n",
      "13\n",
      "15\n",
      "17\n",
      "19\n"
     ]
    }
   ],
   "source": [
    "# This loop will simply print the value of i, which has been set to a range of 10 values (starting at 0)\n",
    "for i in range(10):\n",
    "\tprint(i)\n",
    "    \n",
    "print(\" \")\n",
    "\n",
    "# Alternatively, we can give range() a start and stop point and tell it the increments to increase in.\n",
    "for i in range(1,20, 2):\n",
    "    print(i)"
   ]
  },
  {
   "cell_type": "markdown",
   "id": "abdc60c7",
   "metadata": {},
   "source": [
    "What if we want the best of both worlds, i.e. we want to move through a list but also know how many times the loop has run? There are two ways we could do this:"
   ]
  },
  {
   "cell_type": "code",
   "execution_count": 10,
   "id": "47a4277d",
   "metadata": {},
   "outputs": [
    {
     "name": "stdout",
     "output_type": "stream",
     "text": [
      "The number of times the loop has run is 0 and the word is:  Trying\n",
      "The number of times the loop has run is 1 and the word is:  to\n",
      "The number of times the loop has run is 2 and the word is:  catch\n",
      "The number of times the loop has run is 3 and the word is:  moonbeams\n",
      "The number of times the loop has run is 4 and the word is:  with\n",
      "The number of times the loop has run is 5 and the word is:  a\n",
      "The number of times the loop has run is 6 and the word is:  butterfly\n",
      "The number of times the loop has run is 7 and the word is:  net\n",
      " \n",
      "The number of times the loop has run is 0 and the word is:  Trying\n",
      "The number of times the loop has run is 1 and the word is:  to\n",
      "The number of times the loop has run is 2 and the word is:  catch\n",
      "The number of times the loop has run is 3 and the word is:  moonbeams\n",
      "The number of times the loop has run is 4 and the word is:  with\n",
      "The number of times the loop has run is 5 and the word is:  a\n",
      "The number of times the loop has run is 6 and the word is:  butterfly\n",
      "The number of times the loop has run is 7 and the word is:  net\n"
     ]
    }
   ],
   "source": [
    "items = [\"Trying\",\"to\",\"catch\",\"moonbeams\",\"with\",\"a\", \"butterfly\", \"net\"]\n",
    "counter = 0\n",
    "for word in items:\n",
    "    print('The number of times the loop has run is', counter, 'and the word is: ', word)\n",
    "    counter = counter + 1\n",
    "print(\" \")\n",
    "    \n",
    "# There is nothing wrong with this method, but we can use the enumerate command to simplify our code:\n",
    "\n",
    "items = [\"Trying\",\"to\",\"catch\",\"moonbeams\",\"with\",\"a\", \"butterfly\", \"net\"]\n",
    "for counter, word in enumerate(items):\n",
    "    print('The number of times the loop has run is', counter, 'and the word is: ', word )"
   ]
  },
  {
   "cell_type": "markdown",
   "id": "b2de379b",
   "metadata": {},
   "source": [
    "### Nested Loops\n",
    "\n",
    "One final thing to consider before we move on is to consider what we could do if we were to embed a loop into another loop. This is known as a nested loop and although their use case may not be immediately obvious, they are a very powerful tool to have at hand!"
   ]
  },
  {
   "cell_type": "code",
   "execution_count": 3,
   "id": "5d48ce48",
   "metadata": {},
   "outputs": [
    {
     "name": "stdout",
     "output_type": "stream",
     "text": [
      "The first ten multiples of  1  are: \n",
      "\n",
      "1\n",
      "2\n",
      "3\n",
      "4\n",
      "5\n",
      "6\n",
      "7\n",
      "8\n",
      "9\n",
      "10\n",
      "\n",
      "\n",
      "The first ten multiples of  2  are: \n",
      "\n",
      "2\n",
      "4\n",
      "6\n",
      "8\n",
      "10\n",
      "12\n",
      "14\n",
      "16\n",
      "18\n",
      "20\n",
      "\n",
      "\n",
      "The first ten multiples of  3  are: \n",
      "\n",
      "3\n",
      "6\n",
      "9\n",
      "12\n",
      "15\n",
      "18\n",
      "21\n",
      "24\n",
      "27\n",
      "30\n",
      "\n",
      "\n",
      "The first ten multiples of  4  are: \n",
      "\n",
      "4\n",
      "8\n",
      "12\n",
      "16\n",
      "20\n",
      "24\n",
      "28\n",
      "32\n",
      "36\n",
      "40\n",
      "\n",
      "\n",
      "The first ten multiples of  5  are: \n",
      "\n",
      "5\n",
      "10\n",
      "15\n",
      "20\n",
      "25\n",
      "30\n",
      "35\n",
      "40\n",
      "45\n",
      "50\n",
      "\n",
      "\n",
      "The first ten multiples of  6  are: \n",
      "\n",
      "6\n",
      "12\n",
      "18\n",
      "24\n",
      "30\n",
      "36\n",
      "42\n",
      "48\n",
      "54\n",
      "60\n",
      "\n",
      "\n",
      "The first ten multiples of  7  are: \n",
      "\n",
      "7\n",
      "14\n",
      "21\n",
      "28\n",
      "35\n",
      "42\n",
      "49\n",
      "56\n",
      "63\n",
      "70\n",
      "\n",
      "\n",
      "The first ten multiples of  8  are: \n",
      "\n",
      "8\n",
      "16\n",
      "24\n",
      "32\n",
      "40\n",
      "48\n",
      "56\n",
      "64\n",
      "72\n",
      "80\n",
      "\n",
      "\n",
      "The first ten multiples of  9  are: \n",
      "\n",
      "9\n",
      "18\n",
      "27\n",
      "36\n",
      "45\n",
      "54\n",
      "63\n",
      "72\n",
      "81\n",
      "90\n",
      "\n",
      "\n",
      "The first ten multiples of  10  are: \n",
      "\n",
      "10\n",
      "20\n",
      "30\n",
      "40\n",
      "50\n",
      "60\n",
      "70\n",
      "80\n",
      "90\n",
      "100\n",
      "\n",
      "\n"
     ]
    }
   ],
   "source": [
    "# An example of a nested loop. This nested loop will print out the times tables up to 10 times 10!\n",
    "\n",
    "for i in range(1,11, 1):\n",
    "    print(\"The first ten multiples of \", i, \" are: \\n\")\n",
    "    for a in range (1,11,1):\n",
    "        value = a * i\n",
    "        print(value)\n",
    "    print(\"\\n\")\t"
   ]
  },
  {
   "cell_type": "markdown",
   "id": "ad739399",
   "metadata": {},
   "source": [
    "Think about what the snippet of code above is actually doing. You may find it useful to work through the loop and write down what it is doing to understand how it works."
   ]
  },
  {
   "cell_type": "markdown",
   "id": "9fd66f26",
   "metadata": {},
   "source": [
    "---\n",
    "## Activities"
   ]
  },
  {
   "cell_type": "markdown",
   "id": "e9480f21",
   "metadata": {},
   "source": [
    "Below are some exercises to complete to practise using conditional statements and loops. You may wish to review the notes from previous weeks to help you complete these exercises.\n",
    "\n",
    "1. For the given list of numbers, write a loop that identifies the smallest and largest numbers in the list. The loop should print both of these numbers."
   ]
  },
  {
   "cell_type": "code",
   "execution_count": 1,
   "id": "6332e6e0",
   "metadata": {},
   "outputs": [],
   "source": [
    "import numpy as np\n",
    "\n",
    "# Complete exercise 1 here.\n",
    "theData = [22, 2, 6, 3, 8, 9, 3, 2, 7, 9, 20, 40]"
   ]
  },
  {
   "cell_type": "markdown",
   "id": "0ca1afb4",
   "metadata": {},
   "source": [
    "2. For the given list of names, write a loop that determines if the name “Issac” is present. The loop should print a statement indicating if the name “Issac” is or is not present in the list."
   ]
  },
  {
   "cell_type": "code",
   "execution_count": 2,
   "id": "c53c7e1b",
   "metadata": {},
   "outputs": [],
   "source": [
    "nameList = ['Daisy', 'Rosie', 'Florence', 'Sophia', 'Lily', 'Emily', 'Issac', 'Ella', 'Poppy', 'Amelia ']"
   ]
  },
  {
   "cell_type": "markdown",
   "id": "59d0707c",
   "metadata": {},
   "source": [
    "3. Define two numbers as floating point numbers, write a function that tells you which of the two numbers is the largest. Test this for multiple number pairs. "
   ]
  },
  {
   "cell_type": "markdown",
   "id": "0315608d",
   "metadata": {},
   "source": [
    "4. This one is up to you! Create a while loop that outputs *something* until a condition of your choosing is met."
   ]
  }
 ],
 "metadata": {
  "kernelspec": {
   "display_name": "Python 3",
   "language": "python",
   "name": "python3"
  },
  "language_info": {
   "codemirror_mode": {
    "name": "ipython",
    "version": 3
   },
   "file_extension": ".py",
   "mimetype": "text/x-python",
   "name": "python",
   "nbconvert_exporter": "python",
   "pygments_lexer": "ipython3",
   "version": "3.7.4"
  }
 },
 "nbformat": 4,
 "nbformat_minor": 5
}
