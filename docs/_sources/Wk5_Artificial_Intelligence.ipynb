{
 "cells": [
  {
   "cell_type": "markdown",
   "id": "46f39a6d",
   "metadata": {},
   "source": [
    "# Artificial Intelligence (AI)\n",
    "\n",
    "In the not too distant past, artificial intelligence was a pretty abstract concept to most and its use cases were typically unknown to the general public. In recent years AI has exploded into our lives and is becoming more commonplace and at an accelerating rate - you will have no doubt noticed that snapchat now hosts an AI chatbot. \n",
    "\n",
    "A particularly interesting AI tool is [ChatGPT](https://openai.com/blog/chatgpt). Open AI states “We’ve trained a model called ChatGPT which interacts in a conversational way. The dialogue format makes it possible for ChatGPT to answer followup questions, admit its mistakes, challenge incorrect premises, and reject inappropriate requests.” \n",
    "\n",
    "Within the department, we believe that we should empower students by teaching them how to responsibly use AI tools as part of their workflow. This does not mean that we are giving students the green light to get AI to write their essays and complete their assignments, instead we will teach you how to responsibly use AI tools in a way that does not compromise the credibility of your degree or your understanding of the topics that we cover. **Understanding what we do is fundamental at all stages!**\n",
    "\n",
    "**Warning: AI tools are powerful, but they are not omnipotent or omniscient**. When using an AI tool, do not take its output at face value. Instead, critically assess what it outputs, regenerate responses to see if they change, and research the topics you are exploring with AI via traditional means. AI language tools can articulate information effectively and convincingly, but are also prone to making things up or reporting incorrect information so take a sceptical view of what they say.\n",
    "\n",
    "---\n",
    "## Debugging with AI\n",
    "\n",
    "Although there are many AI tools to choose from, in this session we will focus on how we may use ChatGPT to aid in our programming, in part because you are able to freely access it through CoCalc, but also because it is quite good at Python. You can access ChatGPT directly if you create an account with OpenAI, but be warned that it is not always available to use at busy times.\n",
    "\n",
    "Below is a simple plotting script, let’s use ChatGPT to debug this code:"
   ]
  },
  {
   "cell_type": "code",
   "execution_count": 1,
   "id": "a28d4de9",
   "metadata": {},
   "outputs": [
    {
     "ename": "NameError",
     "evalue": "name 'x' is not defined",
     "output_type": "error",
     "traceback": [
      "\u001b[0;31m---------------------------------------------------------------------------\u001b[0m",
      "\u001b[0;31mNameError\u001b[0m                                 Traceback (most recent call last)",
      "\u001b[0;32m<ipython-input-1-515eae5ba70e>\u001b[0m in \u001b[0;36m<module>\u001b[0;34m\u001b[0m\n\u001b[1;32m      4\u001b[0m \u001b[0;34m\u001b[0m\u001b[0m\n\u001b[1;32m      5\u001b[0m \u001b[0mxData\u001b[0m \u001b[0;34m=\u001b[0m \u001b[0mnp\u001b[0m\u001b[0;34m.\u001b[0m\u001b[0mlinspace\u001b[0m\u001b[0;34m(\u001b[0m\u001b[0;36m0\u001b[0m\u001b[0;34m,\u001b[0m\u001b[0;36m10\u001b[0m\u001b[0;34m,\u001b[0m\u001b[0;36m100\u001b[0m\u001b[0;34m)\u001b[0m\u001b[0;34m\u001b[0m\u001b[0;34m\u001b[0m\u001b[0m\n\u001b[0;32m----> 6\u001b[0;31m \u001b[0myData\u001b[0m \u001b[0;34m=\u001b[0m \u001b[0;36m2\u001b[0m \u001b[0;34m*\u001b[0m \u001b[0mx\u001b[0m \u001b[0;34m+\u001b[0m \u001b[0mnp\u001b[0m\u001b[0;34m.\u001b[0m\u001b[0mrandom\u001b[0m\u001b[0;34m.\u001b[0m\u001b[0mnormal\u001b[0m\u001b[0;34m(\u001b[0m\u001b[0;36m0\u001b[0m\u001b[0;34m,\u001b[0m\u001b[0;36m1\u001b[0m\u001b[0;34m,\u001b[0m\u001b[0;36m105\u001b[0m\u001b[0;34m)\u001b[0m\u001b[0;34m\u001b[0m\u001b[0;34m\u001b[0m\u001b[0m\n\u001b[0m\u001b[1;32m      7\u001b[0m \u001b[0;34m\u001b[0m\u001b[0m\n\u001b[1;32m      8\u001b[0m \u001b[0mresults\u001b[0m \u001b[0;34m=\u001b[0m \u001b[0mlinregress\u001b[0m\u001b[0;34m(\u001b[0m\u001b[0mxData\u001b[0m\u001b[0;34m,\u001b[0m\u001b[0myData\u001b[0m\u001b[0;34m)\u001b[0m\u001b[0;34m\u001b[0m\u001b[0;34m\u001b[0m\u001b[0m\n",
      "\u001b[0;31mNameError\u001b[0m: name 'x' is not defined"
     ]
    }
   ],
   "source": [
    "import numpy as np \n",
    "import matplotlib.pyplot as plt\n",
    "from scipy.stats import linregress\n",
    "\n",
    "xData = np.linspace(0,10,100)\n",
    "yData = 2 * x + np.random.normal(0,1,105)\n",
    "\n",
    "results = linregress(xData,yData)\n",
    "BestFitLit = (results.slope * x) + results.intercept\n",
    "\n",
    "plt.scatter(x, y, color = 'k', linestyle = ' ', label = Data)\n",
    "plt.plt(x, BestFitLine, color = 'Red', linestyle = '--', marker = ' ', label = 'Fit')\n",
    "plt.xlabel('xData')\n",
    "plt.ylabel('yData')\n",
    "plt.legend()\n",
    "plt.show()"
   ]
  },
  {
   "cell_type": "markdown",
   "id": "86ef5639",
   "metadata": {},
   "source": [
    "If we run this code, we are greeted with an error message. Let’s pretend that we cannot identify the mistake ourselves… One way I can use chatGPT to debug this code is to ask it to explain the error to me:\n",
    "\n",
    "![image](Wk5_Figures/ChatGPT1.png)\n",
    "\n",
    "This method is useful as ChatGPT will explain to us what the mistake is and how we can fix it. Unfortunately, our script contains many mistakes and identifying them this way may be time consuming - instead let’s provide ChatGPT with our script and ask it to identify and correct any mistakes:\n",
    "\n",
    "![image](Wk5_Figures/ChatGPT2.png)\n",
    "\n",
    "**It is now our responsibility to read through the script generated and ensure that the mistakes identified and corrections made are appropriate!** Also take note of the errors that we initially made - did you spot them all?\n",
    "\n",
    "The two methods above can be used in conjunction with one another - sometimes it may be useful to have in depth explanations provided for specific issues to aid our understanding, whereas in other instances it is useful to simply have an expert debugger on hand.\n",
    "\n",
    "---\n",
    "## Prompt Engineering\n",
    "\n",
    "The use of AI in programming is not limited to debugging our code… we can also use it to generate simple code that would otherwise be routine and time consuming. Let’s imagine that we have two sets of linear data that need fitting and plotting. We can write a simple script to do this ourselves, or we can save some time and ask ChatGPT to do this for us. \n",
    "\n",
    "When doing this, we should be clear and specific about what we would like ChatGPT to do. Compare the two starting prompts and associated outputs. \n",
    "\n",
    "**Prompt 1**: “I need to plot some data in Python. Write me a script.”"
   ]
  },
  {
   "cell_type": "code",
   "execution_count": 3,
   "id": "67aec098",
   "metadata": {},
   "outputs": [
    {
     "data": {
      "image/png": "[encoded data removed]",
      "text/plain": [
       "<Figure size 432x288 with 1 Axes>"
      ]
     },
     "metadata": {
      "needs_background": "light"
     },
     "output_type": "display_data"
    }
   ],
   "source": [
    "# Output 1\n",
    "\n",
    "import matplotlib.pyplot as plt\n",
    "\n",
    "# Sample data\n",
    "x_values = [1, 2, 3, 4, 5]\n",
    "y_values = [2, 4, 6, 8, 10]\n",
    "\n",
    "# Plot the data\n",
    "plt.plot(x_values, y_values)\n",
    "\n",
    "# Customize the plot\n",
    "plt.title(\"Sample Data\")\n",
    "plt.xlabel(\"X-axis\")\n",
    "plt.ylabel(\"Y-axis\")\n",
    "\n",
    "# Display the plot\n",
    "plt.show()"
   ]
  },
  {
   "cell_type": "markdown",
   "id": "e0b78a11",
   "metadata": {},
   "source": [
    "The script generated is certainly useful and does what I asked it to do, but if I am more specific when writing my prompt, I should be able to achieve a better result. \n",
    "\n",
    "**Prompt 2**: “I have two sets of xy data saved in two separate csv files. I would like you to write a python script that imports the data from the csv files, fits each set of data using script.stats.linregress, and plots both sets of data on a single scatter plot. The scatter plot should contain a legend, grid lines and axis titles. The line of best fit for each data set should be a similar colour to the data markers, but clearly visible.”"
   ]
  },
  {
   "cell_type": "code",
   "execution_count": 5,
   "id": "3b243b7d",
   "metadata": {},
   "outputs": [
    {
     "data": {
      "image/png": "[encoded data removed]",
      "text/plain": [
       "<Figure size 432x288 with 1 Axes>"
      ]
     },
     "metadata": {
      "needs_background": "light"
     },
     "output_type": "display_data"
    }
   ],
   "source": [
    "# Output 2\n",
    "\n",
    "import csv\n",
    "import matplotlib.pyplot as plt\n",
    "import scipy.stats as stats\n",
    "\n",
    "# Function to import data from a CSV file\n",
    "def import_data_from_csv(filename):\n",
    "    x_data = []\n",
    "    y_data = []\n",
    "    with open(filename, 'r') as file:\n",
    "        csv_reader = csv.reader(file)\n",
    "        next(csv_reader)  # Skip the header row\n",
    "        for row in csv_reader:\n",
    "            x_data.append(float(row[0]))\n",
    "            y_data.append(float(row[1]))\n",
    "    return x_data, y_data\n",
    "\n",
    "# Import data from CSV files\n",
    "file1 = 'data1.csv'\n",
    "file2 = 'data2.csv'\n",
    "x_data1, y_data1 = import_data_from_csv(file1)\n",
    "x_data2, y_data2 = import_data_from_csv(file2)\n",
    "\n",
    "# Fit data using scipy.stats.linregress\n",
    "slope1, intercept1, _, _, _ = stats.linregress(x_data1, y_data1)\n",
    "slope2, intercept2, _, _, _ = stats.linregress(x_data2, y_data2)\n",
    "\n",
    "# Plot the data and regression lines\n",
    "plt.scatter(x_data1, y_data1, color='blue', label='Data 1')\n",
    "plt.scatter(x_data2, y_data2, color='red', label='Data 2')\n",
    "\n",
    "# Plot regression lines\n",
    "line_color1 = 'lightblue'\n",
    "line_color2 = 'lightcoral'\n",
    "plt.plot(x_data1, [slope1 * x + intercept1 for x in x_data1], color=line_color1, label='Line of Best Fit 1')\n",
    "plt.plot(x_data2, [slope2 * x + intercept2 for x in x_data2], color=line_color2, label='Line of Best Fit 2')\n",
    "\n",
    "# Add legend, grid lines, and axis titles\n",
    "plt.legend()\n",
    "plt.grid(True)\n",
    "plt.xlabel('X Data')\n",
    "plt.ylabel('Y Data')\n",
    "\n",
    "# Display the plot\n",
    "plt.show()"
   ]
  },
  {
   "cell_type": "markdown",
   "id": "5c3e3249",
   "metadata": {},
   "source": [
    "This script is much more sophisticated!\n",
    "\n",
    "---\n",
    "## Closing Remarks\n",
    "\n",
    "Above we have demonstrated the power of AI, but I again emphasise that you must be very cautious when using it! Also the lines of best fit are difficult to see…\n",
    "\n",
    "You may be asking why we spent 4 weeks learning to code Python to fit and plot data when we can do it so easily using AI. The answer is simple: **we must understand a topic to be able to use AI responsibly!** \n",
    "\n",
    "Plotting and fitting data is relatively simple, but as you begin to use Python for complex analysis you will need to be able to critically assess if what ChatGPT (or any other AI tool) proposes is appropriate and correct. In the example above, without prior knowledge of Python we would not truely be able to critically assess whether or not the code produced by ChatGPT was appropriate to use.\n"
   ]
  },
  {
   "cell_type": "markdown",
   "id": "7cf45217",
   "metadata": {},
   "source": [
    "---\n",
    "## Activities\n",
    "\n",
    "### Debugging\n",
    "\n",
    "From the previous activity, take the code from the kinetic energy and velocity task and feed it into ChatGPT in order to effectively debug the code:\n",
    "\n",
    "1. Write your prompt in such a way that the AI lists all of the errors in the code and how to fix them.\n",
    "\n",
    "\n",
    "2. From the initial series of errors output by the code, get the AI to explain what several of the errors mean in order to aid your understanding of why the errors occur. \n"
   ]
  },
  {
   "cell_type": "markdown",
   "id": "3a52fe83",
   "metadata": {},
   "source": [
    "### Efficiency Optimization\n",
    "\n",
    "One of the disadvantages of using Python as a coding language is that it can be slow when compared to other programming languages. For this task:\n",
    "\n",
    "1. Take the code from the superposition of waves activity and get chatGPT to analyse the code and rewrite it so that it runs more efficiently. \n",
    "\n",
    "\n",
    "2. Review the changes it proposes, look at the code output to see how the changes it suggested have been implemented.\n",
    "\n",
    "\n",
    "3. Note down a key change that you may wish to implement in your coding in the future for improved efficiency. \n"
   ]
  },
  {
   "cell_type": "markdown",
   "id": "f24a0078",
   "metadata": {},
   "source": [
    "### Prompt Engineering\n",
    "As we noted above, being able to effectively engineer a prompt is a vital skill when using AI. In this activity you will be required to be a little creative. Previously, we wrote a snippet of code to help us visualise the superposition of standing waves, your task now is to:\n",
    "\n",
    "1. Use AI to write some code that helps visualise the superposition of travelling waves as a function of time. The travelling waves takes the form: \n",
    "\n",
    "$\\Psi=\\Psi_0 sin(kx-\\omega t)$, where $\\omega=vk$ and $k=\\frac{2\\pi}{\\lambda}$. \n",
    "\n",
    "\n",
    "2. Save the output as a .gif file.\n",
    "\n",
    "\n",
    "3. Finally, review the content you have covered in your lectures this far and use AI to help you visualise another concept of your choice.\n",
    "\n",
    "This activity builds upon the concepts we have already covered (functions, plotting, etc.), but we will now use AI to help us further by incorporating animation.  The gif I produced is shown below (I have never animated using Python before either!).\n",
    "\n",
    "![image](Wk5_Figures/Superposition_of_travelling_waves.gif)\n"
   ]
  }
 ],
 "metadata": {
  "kernelspec": {
   "display_name": "Python 3",
   "language": "python",
   "name": "python3"
  },
  "language_info": {
   "codemirror_mode": {
    "name": "ipython",
    "version": 3
   },
   "file_extension": ".py",
   "mimetype": "text/x-python",
   "name": "python",
   "nbconvert_exporter": "python",
   "pygments_lexer": "ipython3",
   "version": "3.7.4"
  }
 },
 "nbformat": 4,
 "nbformat_minor": 5
}
