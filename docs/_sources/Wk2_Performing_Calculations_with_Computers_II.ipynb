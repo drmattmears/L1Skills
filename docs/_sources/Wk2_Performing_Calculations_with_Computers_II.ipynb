{
 "cells": [
  {
   "cell_type": "markdown",
   "id": "7b36d4c8",
   "metadata": {},
   "source": [
    "# Performing Calculations with Computers II\n",
    "---\n",
    "## Learning Objectives:\n",
    "\n",
    "- To have an understanding of objects and variable types in Python.\n",
    "\n",
    "\n",
    "- To understand the difference between ints, floats, strings and tuples.\n",
    "\n",
    "\n",
    "- To understand and be able to use lists, tuples, dictionaries and numpy arrays.\n",
    "\n",
    "\n",
    "- To be able to define and use a function in Python. \n",
    "\n",
    "\n",
    "- Understand what a Python Module is.\n",
    "\n",
    "## Overview\n",
    "\n",
    "In this session we are going to develop our understanding of what Python is and how we use it by learning about the different objects used in Python. Take some time to read through these materials and try to understand what the snippets of code provided are doing. \n",
    "\n",
    "Note: Sometimes we want to write notes in our script that do not interfere with our code. These are called comments. We can add a comment into our code by typing “#” before the text we wish to comment. **Use comments sparingly - our code should be understandable without them!**"
   ]
  },
  {
   "cell_type": "code",
   "execution_count": null,
   "id": "2386c3ab",
   "metadata": {},
   "outputs": [],
   "source": [
    "# This is how I would write a comment in my code."
   ]
  },
  {
   "cell_type": "markdown",
   "id": "af0b78d6",
   "metadata": {},
   "source": [
    "## Strings"
   ]
  },
  {
   "cell_type": "markdown",
   "id": "04dcec4b",
   "metadata": {},
   "source": [
    "A string (str) is simply a collection of words and or numbers. In Python we can write a string by placing some information in either ‘ ’ or “ “. For example, below I will create a string and get the computer to print it out for me using the print() command:"
   ]
  },
  {
   "cell_type": "code",
   "execution_count": null,
   "id": "e8b982b2",
   "metadata": {},
   "outputs": [],
   "source": [
    "myString = \"This is an example of a string!\"\n",
    "print(myString)\n",
    "\n",
    "# I can also print a string without saving it as a variable.\n",
    "print(\"How many odd numbers are there between 0 and 10?\")\n",
    "\n",
    "# If I want to print a number, I can simply insert it into the \n",
    "# print command brackets separated from my string by a comma:\n",
    "print(\"How many odd numbers are there between 0 and 10?\", 5, \"?\")"
   ]
  },
  {
   "cell_type": "markdown",
   "id": "5d1373e3",
   "metadata": {},
   "source": [
    "Often it will be useful to take just a section of a string or perhaps a specific character. The way to do this is by slicing, which is the term used to describe splitting data into smaller chunks. We can slice lots of things (lists and arrays), but here let's demonstrate how we can slice a string."
   ]
  },
  {
   "cell_type": "code",
   "execution_count": null,
   "id": "343cd101",
   "metadata": {},
   "outputs": [],
   "source": [
    "newString = \"Go and explore the peak district!\"\n",
    "\n",
    "# Note that the Oth element of the string is the first letter of our string. \n",
    "# In Python all indexes start at zero NOT one!\n",
    "\n",
    "print(newString[0])\n",
    "print(newString[3])\n",
    "print(newString[5])"
   ]
  },
  {
   "cell_type": "code",
   "execution_count": null,
   "id": "c448d36d",
   "metadata": {},
   "outputs": [],
   "source": [
    "# We can also slice strings into sectionns. For example, the command below will print the first 5 \n",
    "# characters of our string, but not the 5th:\n",
    "print(newString[0:5])"
   ]
  },
  {
   "cell_type": "code",
   "execution_count": null,
   "id": "af52a7ad",
   "metadata": {},
   "outputs": [],
   "source": [
    "# Alternatively, we may wish to index from the end of our string. For example, if we wanted to print the from \n",
    "# the last five characters from the end to two before the end of the string we could slice as follows:\n",
    "print(newString[-5:-2])"
   ]
  },
  {
   "cell_type": "code",
   "execution_count": null,
   "id": "8d856a49",
   "metadata": {},
   "outputs": [],
   "source": [
    "#Perhaps we want to print characters of our string, but skip every other character:\n",
    "print(newString[0:34:2])"
   ]
  },
  {
   "cell_type": "code",
   "execution_count": null,
   "id": "2a73baa2",
   "metadata": {},
   "outputs": [],
   "source": [
    "# We could always print the string backwards?\n",
    "print(newString[::-2])"
   ]
  },
  {
   "cell_type": "markdown",
   "id": "8d204e59",
   "metadata": {},
   "source": [
    "Above we have shown how we may slice strings into smaller chunks of information. In other instances it may be useful to merge strings together - this is known as concatenating. "
   ]
  },
  {
   "cell_type": "code",
   "execution_count": null,
   "id": "b2187c2f",
   "metadata": {},
   "outputs": [],
   "source": [
    "string1 = \"Go and explore\"\n",
    "string2 = \"the peak district!\"\n",
    "\n",
    "# We can concatenate the strings using \"+\". Note I need to add a space.\n",
    "sentence = string1 + \" \" + string2\n",
    "print(sentence)"
   ]
  },
  {
   "cell_type": "markdown",
   "id": "96ec34d8",
   "metadata": {},
   "source": [
    "Using Python we are also able to do lots of things with strings. For example, we can replace specific words, change which letters are capitalised, search for terms in the string, or “multiply” the string."
   ]
  },
  {
   "cell_type": "code",
   "execution_count": null,
   "id": "5d57816b",
   "metadata": {},
   "outputs": [],
   "source": [
    "# We can also use functions built into Python to modify our string. \n",
    "# For example, perhaps we live in the north-west and the peak district is a little far out for us:\n",
    "newString = newString.replace('peak', 'lake')\n",
    "print(newString)"
   ]
  },
  {
   "cell_type": "code",
   "execution_count": null,
   "id": "88862ece",
   "metadata": {
    "scrolled": true
   },
   "outputs": [],
   "source": [
    "# Finally, perhaps you still haven't gone out and explored and I wish to be a little louder:\n",
    "newString = newString.upper()\n",
    "print(newString)"
   ]
  },
  {
   "cell_type": "code",
   "execution_count": null,
   "id": "aa3fb805",
   "metadata": {},
   "outputs": [],
   "source": [
    "# Now you have finally explored the lake district you decide to write a book about it. \n",
    "# The title of the book needs to be formatted nicely:\n",
    "newString = newString.title()\n",
    "print(newString)"
   ]
  },
  {
   "cell_type": "code",
   "execution_count": null,
   "id": "6ed603ce",
   "metadata": {},
   "outputs": [],
   "source": [
    "# Remind me, did we explore in the lake district or the peak district? Lets check our string to find out.\n",
    "searchTerm1 = \"lake\"\n",
    "searchTerm2 = \"peak\"\n",
    "print(\"It is\", searchTerm1 in sentence, 'that', searchTerm1, 'is in the sentence.')\n",
    "print(\"It is\", searchTerm2 in sentence, 'that', searchTerm2, 'is in the sentence.')"
   ]
  },
  {
   "cell_type": "code",
   "execution_count": null,
   "id": "1678bbfc",
   "metadata": {},
   "outputs": [],
   "source": [
    "# Are we enjoying learning about strings!?\n",
    "politeAnswer = \"yeah \"\n",
    "disingenuousAnswer = politeAnswer * 3\n",
    "print(politeAnswer)\n",
    "print(disingenuousAnswer)"
   ]
  },
  {
   "cell_type": "markdown",
   "id": "17e313e9",
   "metadata": {},
   "source": [
    "## Ints and floats"
   ]
  },
  {
   "cell_type": "markdown",
   "id": "b85c7c39",
   "metadata": {},
   "source": [
    "Now that we have covered the basics of strings, let's consider how we deal with numbers in Python. Simply put we can either use ints or floats. An int is an integer number whereas a float is a floating point number (does not need to be a whole number)."
   ]
  },
  {
   "cell_type": "code",
   "execution_count": 1,
   "id": "0e7c0141",
   "metadata": {},
   "outputs": [
    {
     "name": "stdout",
     "output_type": "stream",
     "text": [
      "1 <class 'int'>\n",
      "15.0 <class 'float'>\n"
     ]
    }
   ],
   "source": [
    "myInteger = 1\n",
    "myFloat = 15.0\n",
    "\n",
    "# Let's see what class the interpreter assigns to each of our variables:\n",
    "print(myInteger, type(myInteger))\n",
    "print(myFloat,type(myFloat))"
   ]
  },
  {
   "cell_type": "markdown",
   "id": "d810b8ae",
   "metadata": {},
   "source": [
    "Something to note is that when we perform calculations using floats and ints, the output will also either be a float or an integer based on the calculation performed. If we only use ints the output will also be an int, but if we use a float at any point in our calculation, the output will be a float."
   ]
  },
  {
   "cell_type": "code",
   "execution_count": 2,
   "id": "9f99f34a",
   "metadata": {},
   "outputs": [
    {
     "name": "stdout",
     "output_type": "stream",
     "text": [
      "<class 'int'>\n",
      "<class 'float'>\n",
      "<class 'float'>\n",
      "<class 'float'>\n"
     ]
    }
   ],
   "source": [
    "# Here we demonstrate how types may be converted during calculation\n",
    "print(type(15*myInteger))\n",
    "print(type(1*myFloat))\n",
    "print(type(myInteger*myFloat))\n",
    "print(type(myInteger+myFloat))"
   ]
  },
  {
   "cell_type": "markdown",
   "id": "75dedc63",
   "metadata": {},
   "source": [
    "As we may need to use specifically either a float or an int later in our script, it is very convenient that we are able to convert variable types very easily in Python."
   ]
  },
  {
   "cell_type": "code",
   "execution_count": 3,
   "id": "77e4d537",
   "metadata": {},
   "outputs": [
    {
     "name": "stdout",
     "output_type": "stream",
     "text": [
      "15 <class 'int'>\n"
     ]
    }
   ],
   "source": [
    "# By putting our float inside the int() function, we can convert it back into an int\n",
    "newVariable = int(myInteger*myFloat)\n",
    "print(newVariable,type(newVariable))"
   ]
  },
  {
   "cell_type": "code",
   "execution_count": 4,
   "id": "381ceae1",
   "metadata": {},
   "outputs": [
    {
     "name": "stdout",
     "output_type": "stream",
     "text": [
      "15.0 <class 'float'>\n"
     ]
    }
   ],
   "source": [
    "# If we so wish we can also convert our variable back into a float\n",
    "newVariable = float(newVariable)\n",
    "print(newVariable,type(newVariable))"
   ]
  },
  {
   "cell_type": "code",
   "execution_count": 5,
   "id": "3cc673ea",
   "metadata": {},
   "outputs": [
    {
     "name": "stdout",
     "output_type": "stream",
     "text": [
      "15.015.015.015.015.0\n"
     ]
    }
   ],
   "source": [
    "# We can also convert our variable into a string, but note how this impact the calculations we perform:\n",
    "newVariable =str(newVariable)\n",
    "print(5*newVariable)"
   ]
  },
  {
   "cell_type": "markdown",
   "id": "18b8efc6",
   "metadata": {},
   "source": [
    "As a consequence of how computers store information using binary (1’s and 0’s), often the number we tell the computer to use is not the exact number it uses, although using a 64bit computer, the difference will be very small! (Supplementary reading: how computers store information).\n",
    "\n",
    "If we execute the following code calculation in our computer we would expect it to return the answer 0.55, but this is not the answer we get..."
   ]
  },
  {
   "cell_type": "code",
   "execution_count": 6,
   "id": "ace4c87a",
   "metadata": {},
   "outputs": [
    {
     "data": {
      "text/plain": [
       "0.055000000000000604"
      ]
     },
     "execution_count": 6,
     "metadata": {},
     "output_type": "execute_result"
    }
   ],
   "source": [
    "4.9 - 4.845"
   ]
  },
  {
   "cell_type": "markdown",
   "id": "7f5bab5d",
   "metadata": {},
   "source": [
    "## Lists,Tuples and Dictionaries"
   ]
  },
  {
   "cell_type": "markdown",
   "id": "9536e9ae",
   "metadata": {},
   "source": [
    "Up to this point we have only considered how to store single items of information, but often we will need to store more information. For example, if we wanted to plot a graph we would need the information corresponding to the x-coordinates and the information corresponding to the y-coordinates. It would be impractical to store every single x and y value as a single variable.\n",
    "\n",
    "In Python a list is just a collection of information. To define a list we simply put our information in a set of square brackets and separate each item using a comma. As before we can slice, concatenate and index our list items.\n"
   ]
  },
  {
   "cell_type": "code",
   "execution_count": 1,
   "id": "b82ebc4a",
   "metadata": {},
   "outputs": [],
   "source": [
    "nordicCountries = [\"Iceland\", \"Denmark\", \"Norway\", \"Sweden\", \"Finland\"]\n",
    "balticCountries = [\"Estonia\", \"Lativa\", \"Lithuania\"]"
   ]
  },
  {
   "cell_type": "code",
   "execution_count": 4,
   "id": "bfbd791a",
   "metadata": {},
   "outputs": [
    {
     "name": "stdout",
     "output_type": "stream",
     "text": [
      "The island nations that are part of the nordic nations include:  Iceland\n",
      "The continental nations that are part of the nordic nations include:  ['Denmark', 'Norway', 'Sweden']\n"
     ]
    }
   ],
   "source": [
    "# Using the index I can extract items from a list or slice the list:\n",
    "islandNations = nordicCountries[0]\n",
    "print(\"The island nations that are part of the nordic nations include: \", islandNations)\n",
    "continentalNordics = nordicCountries[1:4]\n",
    "print(\"The continental nations that are part of the nordic nations include: \", continentalNordics)"
   ]
  },
  {
   "cell_type": "code",
   "execution_count": 6,
   "id": "80cd81cb",
   "metadata": {},
   "outputs": [
    {
     "name": "stdout",
     "output_type": "stream",
     "text": [
      "Of the nations that form the baltic and nordic countries, the following are continental: \n",
      " ['Estonia', 'Lativa', 'Lithuania', 'Denmark', 'Norway', 'Sweden']\n"
     ]
    }
   ],
   "source": [
    "# Similarly, I can concatenate lists:\n",
    "coolContinentalCountries = balticCountries + continentalNordics\n",
    "print(\"Of the nations that form the baltic and nordic countries, the following are continental: \\n\", coolContinentalCountries)"
   ]
  },
  {
   "cell_type": "code",
   "execution_count": 7,
   "id": "0c3e4bc6",
   "metadata": {},
   "outputs": [
    {
     "name": "stdout",
     "output_type": "stream",
     "text": [
      "['Aston Martin', 11, ['apple', 'pear', 'orange'], 3.14159]\n",
      "The third item in my list is ['apple', 'pear', 'orange']\n",
      "The last two items in my list are [['apple', 'pear', 'orange'], 3.14159]\n"
     ]
    }
   ],
   "source": [
    "# A list can be made up from any collection of information:\n",
    "randomList = [\"Aston Martin\", 11, [\"apple\", \"pear\", \"orange\"], 3.14159]\n",
    "print(randomList)\n",
    "print(\"The third item in my list is\", randomList[2])\n",
    "print(\"The last two items in my list are\", randomList[-2:])"
   ]
  },
  {
   "cell_type": "markdown",
   "id": "777742eb",
   "metadata": {},
   "source": [
    "A tuple is very similar to a list, the difference being that a tuple is immutable (it cannot be changed). We can create a tuple by putting our items between round brackets and separated by commas. Although we can still index, slice and concatenate tuples, there are only two methods associated with them: index and count."
   ]
  },
  {
   "cell_type": "code",
   "execution_count": 8,
   "id": "bcad5746",
   "metadata": {},
   "outputs": [
    {
     "name": "stdout",
     "output_type": "stream",
     "text": [
      "2\n",
      "6\n"
     ]
    }
   ],
   "source": [
    "myTuple = (\"England\", \"Ireland\", \"Scotland\", \"Wales\", \"Wales\", \"France\", \"Netherlands\")\n",
    "\n",
    "# The count method will tell us how many instances of an item appear in the tuple\n",
    "print(myTuple.count(\"Wales\"))\n",
    "\n",
    "#The index method will tell us where an item appears in the tuple\n",
    "print(myTuple.index(\"Netherlands\"))"
   ]
  },
  {
   "cell_type": "markdown",
   "id": "f2acc646",
   "metadata": {},
   "source": [
    "## Dictionaries\n",
    "\n",
    "A dictionary may be used to store information with specific associated keys. For example, perhaps we would like to catalogue information and would like to be able to reference these properties later in our script."
   ]
  },
  {
   "cell_type": "code",
   "execution_count": 9,
   "id": "41683f97",
   "metadata": {},
   "outputs": [],
   "source": [
    "VW_Cars = {\n",
    "    \"Golf\": {\n",
    "        \"year\": 2022,\n",
    "        \"price\": 25000,\n",
    "        \"engine\": \"1.4L TSI\",\n",
    "        \"horsepower\": 147,\n",
    "        \"fuel_type\": \"Petrol\"\n",
    "    },\n",
    "    \"Polo\": {\n",
    "        \"year\": 2021,\n",
    "        \"price\": 20000,\n",
    "        \"engine\": \"1.0L MPI\",\n",
    "        \"horsepower\": 79,\n",
    "        \"fuel_type\": \"Petrol\"\n",
    "    },\n",
    "    \"Passat\": {\n",
    "        \"year\": 2022,\n",
    "        \"price\": 35000,\n",
    "        \"engine\": \"2.0L TSI\",\n",
    "        \"horsepower\": 174,\n",
    "        \"fuel_type\": \"Petrol\"\n",
    "    },\n",
    "}"
   ]
  },
  {
   "cell_type": "markdown",
   "id": "6920d7c4",
   "metadata": {},
   "source": [
    "Note how the dictionary above is structured. As we use dictionaries to store information, there are lots of methods we can use to find, extract, and remove items from the dictionary. Below is an example of how we may use the .keys() and .get() methods."
   ]
  },
  {
   "cell_type": "code",
   "execution_count": 10,
   "id": "5d54b000",
   "metadata": {},
   "outputs": [
    {
     "name": "stdout",
     "output_type": "stream",
     "text": [
      "The keys in our car catalogue are: dict_keys(['Golf', 'Polo', 'Passat'])\n"
     ]
    }
   ],
   "source": [
    "# We can find out what the keys in our dictionary are using the .keys() command:\n",
    "print(\"The keys in our car catalogue are:\", VW_Cars.keys())"
   ]
  },
  {
   "cell_type": "code",
   "execution_count": 11,
   "id": "f26cb283",
   "metadata": {},
   "outputs": [
    {
     "name": "stdout",
     "output_type": "stream",
     "text": [
      "Information for VW Golf : {'year': 2022, 'price': 25000, 'engine': '1.4L TSI', 'horsepower': 147, 'fuel_type': 'Petrol'}\n"
     ]
    }
   ],
   "source": [
    "# We can extract information from the dictionary as follows using the .get() command:\n",
    "model = \"Golf\"\n",
    "print(\"Information for VW\", model, \":\", VW_Cars.get(model))"
   ]
  },
  {
   "cell_type": "code",
   "execution_count": 12,
   "id": "c853a00a",
   "metadata": {},
   "outputs": [
    {
     "name": "stdout",
     "output_type": "stream",
     "text": [
      "Information for VW Passat: {'year': 2022, 'price': 35000, 'engine': '2.0L TSI', 'horsepower': 174, 'fuel_type': 'Petrol'}\n"
     ]
    }
   ],
   "source": [
    "# Or simply:\n",
    "print(\"Information for VW Passat:\", VW_Cars[\"Passat\"])"
   ]
  },
  {
   "cell_type": "markdown",
   "id": "91317b1c",
   "metadata": {},
   "source": [
    "## Numpy Arrays\n",
    "\n",
    "One of the most ubiquitous data structures is the array.  An array is a matrix of numbers that can be any number of dimensions. For now, we will only use 2D arrays to make visualising them easier. We will use a type of array called a Numpy Array, this is very common and used by nearly everyone. To use numpy we have to import the numpy library into Python to give us access to the array commands. To do this we simply write an import command at the top of our Python script."
   ]
  },
  {
   "cell_type": "code",
   "execution_count": 1,
   "id": "d631905d",
   "metadata": {},
   "outputs": [],
   "source": [
    "import numpy as np\n",
    "# The \"as np\" is present as it means that each time we call something from the numpy library, we only \n",
    "# need to write \"np.\" before the numpy command, rather than \"numpy.\" e.g. \"np.mean\" vs \"numpy.mean\""
   ]
  },
  {
   "cell_type": "markdown",
   "id": "b7bd075a",
   "metadata": {},
   "source": [
    "It is vital that you understand how to make and use numpy arrays as you will be using throughout the semester for data analysis and plotting. Take time to read through the code below and try to understand what it is doing. "
   ]
  },
  {
   "cell_type": "code",
   "execution_count": 2,
   "id": "b955f366",
   "metadata": {},
   "outputs": [
    {
     "name": "stdout",
     "output_type": "stream",
     "text": [
      "[1 2 3 4 5 6 7 8 9]\n",
      "The first value in my array is 1\n",
      "The last value in my array is 9\n",
      "The first 3 values in my array are [1 2 3]\n"
     ]
    }
   ],
   "source": [
    "# Lets start by making a simple 1D array:\n",
    "array1 = np.array([1,2,3,4,5,6,7,8,9])\n",
    "print(array1)\n",
    "\n",
    "print('The first value in my array is', array1[0])\n",
    "print('The last value in my array is', array1[-1])\n",
    "print('The first 3 values in my array are', array1[0:3])"
   ]
  },
  {
   "cell_type": "code",
   "execution_count": 3,
   "id": "d283e826",
   "metadata": {},
   "outputs": [
    {
     "name": "stdout",
     "output_type": "stream",
     "text": [
      "[[1 2 3]\n",
      " [4 5 6]\n",
      " [7 8 9]]\n"
     ]
    }
   ],
   "source": [
    "# It is often useful to store information in 2 dimensional arrays:\n",
    "array2 = np.array([[1,2,3],[4,5,6],[7,8,9]])\n",
    "print(array2)"
   ]
  },
  {
   "cell_type": "code",
   "execution_count": 4,
   "id": "d9388efa",
   "metadata": {},
   "outputs": [
    {
     "name": "stdout",
     "output_type": "stream",
     "text": [
      "The value in the top left is 1\n",
      "The first row is [1 2 3]\n",
      "The middle column is [2 5 8]\n",
      "The mean of the 1D array is 5.0\n",
      "The mean of the 2D array is 5.0\n"
     ]
    }
   ],
   "source": [
    "# When extracting information/slicing 2D arrays, we must provide additinal information \n",
    "# (corresponding to the x index and the y index)\n",
    "\n",
    "print('The value in the top left is', array2[0,0]) \n",
    "print('The first row is', array2[0,:]) # prints the whole row\n",
    "print('The middle column is', array2[:,1]) # prints the whole column\n",
    "print('The mean of the 1D array is', np.mean(array1))\n",
    "print('The mean of the 2D array is', np.mean(array2))"
   ]
  },
  {
   "cell_type": "code",
   "execution_count": 5,
   "id": "e4ae74a0",
   "metadata": {},
   "outputs": [
    {
     "name": "stdout",
     "output_type": "stream",
     "text": [
      "The mean of the 2D array in Y is [4. 5. 6.]\n",
      "The mean of the 2D array in X is [2. 5. 8.]\n"
     ]
    }
   ],
   "source": [
    "# We can also ask numpy to perform calculations using a specific axis, thus giving us three different mean values:\n",
    "print('The mean of the 2D array in Y is', np.mean(array2, axis=0))\n",
    "print('The mean of the 2D array in X is', np.mean(array2, axis=1))"
   ]
  },
  {
   "cell_type": "markdown",
   "id": "959b8679",
   "metadata": {},
   "source": [
    "When using numpy arrays, we are not limited to performing calculations on a single array, we can perform calculations using multiple arrays e.g. addition, subtraction, multiplication and matrix calculations. Furthermore, within the numpy library there are many different methods that can be called, for example, we may wish to resize our array, or determine how many individual elements it is made up from."
   ]
  },
  {
   "cell_type": "code",
   "execution_count": 6,
   "id": "682fc25c",
   "metadata": {},
   "outputs": [
    {
     "name": "stdout",
     "output_type": "stream",
     "text": [
      "Shape (9,)\n",
      "Shape (3, 3)\n",
      "[[1 2 3]\n",
      " [4 5 6]\n",
      " [7 8 9]]\n"
     ]
    }
   ],
   "source": [
    "# Let's resize our first array so that it has the same dimensions as our second:\n",
    "print('Shape', np.shape(array1))\n",
    "array1 = np.reshape(array1,[3,3]) # Lets make it 3x3\n",
    "print('Shape', np.shape(array1))\n",
    "print(array1)"
   ]
  },
  {
   "cell_type": "code",
   "execution_count": 7,
   "id": "afc49cec",
   "metadata": {},
   "outputs": [
    {
     "name": "stdout",
     "output_type": "stream",
     "text": [
      "[[ 2  4  6]\n",
      " [ 8 10 12]\n",
      " [14 16 18]]\n"
     ]
    }
   ],
   "source": [
    "# Summation\n",
    "print(array1+array2)"
   ]
  },
  {
   "cell_type": "code",
   "execution_count": 8,
   "id": "191976e9",
   "metadata": {},
   "outputs": [
    {
     "name": "stdout",
     "output_type": "stream",
     "text": [
      "[[ 1  4  9]\n",
      " [16 25 36]\n",
      " [49 64 81]]\n"
     ]
    }
   ],
   "source": [
    "# Multiplication\n",
    "print(array1*array2)"
   ]
  },
  {
   "cell_type": "code",
   "execution_count": 9,
   "id": "05bc896a",
   "metadata": {},
   "outputs": [
    {
     "name": "stdout",
     "output_type": "stream",
     "text": [
      "[[ 30  36  42]\n",
      " [ 66  81  96]\n",
      " [102 126 150]]\n"
     ]
    }
   ],
   "source": [
    "#Real matrix multiplication\n",
    "print(np.matmul(array1, array2))"
   ]
  },
  {
   "cell_type": "markdown",
   "id": "0820572e",
   "metadata": {},
   "source": [
    "Before we move onto the next topic, I would like to make you aware of a few tools in numpy that you may find useful:\n",
    "\n",
    "np.zeros() - used to create an array filled with zeros,\n",
    "\n",
    "np.ones() - used to create an array filled with ones,\n",
    "\n",
    "np.linspace() - used to create a 1D array with linearly spaced values between a start and stop, where we define how many values we would like in our array,\n",
    "\n",
    "np.arange().- used to create a 1D array with values between a start and stop, where we define the step increment between the two values.\n",
    "\n",
    "Examples of the following numpy tools are provided below:\n"
   ]
  },
  {
   "cell_type": "code",
   "execution_count": 10,
   "id": "bc3c3814",
   "metadata": {},
   "outputs": [
    {
     "name": "stdout",
     "output_type": "stream",
     "text": [
      "[[0. 0. 0. 0. 0. 0.]\n",
      " [0. 0. 0. 0. 0. 0.]\n",
      " [0. 0. 0. 0. 0. 0.]]\n"
     ]
    }
   ],
   "source": [
    "zerosArray = np.zeros([3,6])\n",
    "print(zerosArray)"
   ]
  },
  {
   "cell_type": "code",
   "execution_count": 11,
   "id": "e1a45688",
   "metadata": {},
   "outputs": [
    {
     "name": "stdout",
     "output_type": "stream",
     "text": [
      "[[1. 1. 1. 1. 1. 1.]\n",
      " [1. 1. 1. 1. 1. 1.]\n",
      " [1. 1. 1. 1. 1. 1.]]\n"
     ]
    }
   ],
   "source": [
    "onesArray = np.ones([3,6])\n",
    "print(onesArray)"
   ]
  },
  {
   "cell_type": "code",
   "execution_count": 12,
   "id": "dd4218df",
   "metadata": {},
   "outputs": [
    {
     "name": "stdout",
     "output_type": "stream",
     "text": [
      "[0. 1. 2. 3. 4. 5. 6. 7. 8. 9.]\n"
     ]
    }
   ],
   "source": [
    "l_Array = np.linspace(0, 9, 10)\n",
    "print(l_Array)"
   ]
  },
  {
   "cell_type": "code",
   "execution_count": 13,
   "id": "996a421e",
   "metadata": {
    "scrolled": true
   },
   "outputs": [
    {
     "name": "stdout",
     "output_type": "stream",
     "text": [
      "[0.  0.5 1.  1.5 2.  2.5 3.  3.5 4.  4.5 5.  5.5 6.  6.5 7.  7.5 8.  8.5\n",
      " 9.  9.5]\n"
     ]
    }
   ],
   "source": [
    "a_Array = np.arange(0, 10, .5)\n",
    "print(a_Array)"
   ]
  },
  {
   "cell_type": "markdown",
   "id": "2c53faf2",
   "metadata": {},
   "source": [
    "## Activities"
   ]
  },
  {
   "cell_type": "markdown",
   "id": "2656bceb",
   "metadata": {},
   "source": [
    "### Strings \n",
    "\n",
    "Save your first, middle (if applicable) and as three different variables (first, middle, last). Use the print statement and appropriate string methods to:\n",
    "\n",
    "1. Print the statement “My full name is: first middle last”.\n",
    "2. Print the statement in all caps.\n",
    "3. Print the statement in capitalising only the first letter of each word.\n",
    "4. Print the statement backwards.\n",
    "5. Print every second letter of the statement.\n",
    "\n",
    "Create a new variable “age” and set it equal to your age. Make a new string that says “and my age is x”. Concatenate the first and second statements into a new sentence."
   ]
  },
  {
   "cell_type": "code",
   "execution_count": 1,
   "id": "6d5f802b",
   "metadata": {},
   "outputs": [],
   "source": [
    "# Strings activitiy:"
   ]
  },
  {
   "cell_type": "markdown",
   "id": "1853987b",
   "metadata": {},
   "source": [
    "### Calculations\n",
    "\n",
    "Using the [len() function](https://www.w3schools.com/python/ref_func_len.asp), determine how many letters are in your first and second names. Ensure that these numbers are stored as variables (first & second). The len() function determines the length of something, this may be a string or a list or an array etc. An example is shown below:"
   ]
  },
  {
   "cell_type": "code",
   "execution_count": 4,
   "id": "5a63414d",
   "metadata": {},
   "outputs": [
    {
     "name": "stdout",
     "output_type": "stream",
     "text": [
      "228\n"
     ]
    }
   ],
   "source": [
    "aLongName = \"Daenerys Stormborn of House Targaryen, the First of Her Name, Queen of the Andals and the First Men, Protector of the Seven Kingdoms, the Mother of Dragons, the Khaleesi of the Great Grass Sea, the Unburnt, the Breaker of Chains\"\n",
    "\n",
    "print(len(aLongName))\n",
    "\n",
    "# This would return and print the number of characters (letters and spaces) in aLongName - in this case 228."
   ]
  },
  {
   "cell_type": "markdown",
   "id": "5f59bfb1",
   "metadata": {},
   "source": [
    "From the two saved variables determine:\n",
    "\n",
    "1. The product of “first” and “second”.\n",
    "2. The radio of “first” to “second”.\n",
    "3. The value of “first” to the power of “second”. \n",
    "4. The total number of letters in your first and second name.\n",
    "5. The difference in the number of characters of your first and second name.\n",
    "\n",
    "For each calculation above, get the computer to print out a statement such as “the product of first and second is … ”."
   ]
  },
  {
   "cell_type": "code",
   "execution_count": 5,
   "id": "226e7ed4",
   "metadata": {},
   "outputs": [],
   "source": [
    "# Calculations activity:"
   ]
  },
  {
   "cell_type": "markdown",
   "id": "cca30ee7",
   "metadata": {},
   "source": [
    "### Lists and Numpy Arrays\n",
    "\n",
    "Generate a list of 10 items and:\n",
    "\n",
    "1. Print the 7th item of the list.\n",
    "2. Print the first 4 items of the list.\n",
    "3. Print the 2nd, 4th, 6th and 8th items of the list.\n",
    "\n",
    "Generate a numpy array containing the numbers 0 to 12:\n",
    "\n",
    "4. Determine all values of the times tables up to 12 using this array (e.g. 0x0 to 12x12). \n",
    "5. Print each array containing the times tables e.g. (0, 2, 4, 6… and then 0, 3, 6, 9…)."
   ]
  },
  {
   "cell_type": "code",
   "execution_count": null,
   "id": "22091e4f",
   "metadata": {},
   "outputs": [],
   "source": [
    "# List and numpy array activity:"
   ]
  }
 ],
 "metadata": {
  "kernelspec": {
   "display_name": "Python 3",
   "language": "python",
   "name": "python3"
  },
  "language_info": {
   "codemirror_mode": {
    "name": "ipython",
    "version": 3
   },
   "file_extension": ".py",
   "mimetype": "text/x-python",
   "name": "python",
   "nbconvert_exporter": "python",
   "pygments_lexer": "ipython3",
   "version": "3.7.4"
  }
 },
 "nbformat": 4,
 "nbformat_minor": 5
}
