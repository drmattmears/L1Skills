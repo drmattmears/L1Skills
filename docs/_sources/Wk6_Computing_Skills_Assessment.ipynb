{
 "cells": [
  {
   "cell_type": "markdown",
   "metadata": {},
   "source": [
    "# Computing Skills Assessment"
   ]
  },
  {
   "cell_type": "markdown",
   "metadata": {},
   "source": [
    "--- \n",
    "\n",
    "## Overview\n",
    "\n",
    "This week you will be putting into practise the computing skills we have been developing over the past five weeks. \n",
    "\n",
    "You are encouraged to review the materials and exercises used throughout the semester and ask for support from the academic staff and GTA’s during the first hour of the session. Please also use this time to review the assessment rubric and ask any questions about today's task.\n",
    "\n",
    "During the second hour of the session, you will begin to work through the assessment. You are encouraged to try and solve the problems to the best of your ability using any resources available independently initially, but you may share ideas with your peers during this time. \n",
    "\n",
    "During the final hour of the session, GTA’s and academic staff will be present to support you by offering advice and suggestions of how to complete the task at hand. At the end of the session, please upload your completed work to the shared folder on CoCalc. This work will be assessed and you will receive feedback on your submission. \n",
    "\n",
    "As this is an assessment of your computing skills, we kindly request that you limit your use of AI to debugging code and understanding error messages.\n",
    "\n",
    "---\n",
    "## Revision\n",
    "\n",
    "Please spend some time reviewing the topics that we have covered thus far during the skills workshops and ensure that you are comfortable with each one. If you identify something that seems unfamiliar or that you feel is an area for development, take note of it, review the materials provided, and ask for support if needed. \n",
    "\n",
    "A table summarising what we have covered thus far during the semester is provided in the Google Doc \"Computing Skills: Revision & Assessment\". Please use this.\n",
    "\n",
    "---\n",
    "## Assessment Task\n",
    "\n",
    "In this task you will be given the opportunity to showcase the computing skills that you have developed over the course of the past five weeks. In this task you will:\n",
    "\n",
    "- Import data from CSV files into Python.\n",
    "- Define and use a function. \n",
    "- Create several subplots, each of which contains multiple data sets. \n",
    "- Slice a set of data into a subset of data.\n",
    "- Perform a linear regression on the subset of data.\n",
    "- Extrapolate and make predictions based on the results of the linear regression. \n",
    "\n",
    "Two CSV files are provided for this task. The file named “CountryTemperatures.csv” contains information about the average monthly temperature (and the associated error) for five different countries. \n",
    "\n",
    "The file named “CO2Measurements.csv” contains a set of measurements known as the “Keeling Curve”, this being the longest series of continuous measurements of the concentration of CO2 in our atmosphere, which were recorded at the Mauna Loa Observatory, Hawaii. As the level of carbon dioxide in the atmosphere changes with the seasons, the file contains base measurements and seasonally adjusted measurements.\n",
    "\n",
    "\n",
    "Dates can be awkward to deal with in Python, so instead of the year, month and day being recorded, decimal dates are used in both datasets. These provide a purely numeric format for dates; the number before the decimal point represents the year, and the number after the decimal point represents the fraction of the year that has elapsed. For example, if a measurement was recorded on September 1st (three quarters through the year), 1989, the decimal date would be 1989.75.\n",
    "\n",
    "\n",
    "You task is as follows:\n",
    "\n",
    "1. Import the data from the CSV files into a Python script.\n",
    "\n",
    "\n",
    "2. Create a figure containing three subplots arranged across two rows. The first row should contain two of the plots, and the second row should have only one plot (see template below).\n",
    "\n",
    "![Image](Wk6_Figures/AssessmentBrief.png)\n",
    "\n",
    "* On the first subplot, plot the average temperatures of the three countries (Rwanda, Ecuador and the United Kingdom) as a function of time between January 1st 2004 (list index = 1356) and December 1st 2009 (list index = 1428). \n",
    "\n",
    "\n",
    "* On the second subplot, plot the concentration of atmospheric CO2 as a function of time (both for the seasonally unadjusted and adjusted data). \n",
    "\n",
    "\n",
    "* On the third subplot, plot a subsection of the seasonally adjusted CO2 concentration measurements that span a range between the first measurement of 2004  (list index = 545) to the last measurement of 2012 to (list index = 653). Perform a simple linear regression using this data and superimpose it onto the plot. \n",
    "\n",
    "\n",
    "* Write a series of print statements that output the fit results (gradient and intercept with errors and r-value).\n",
    "\n",
    "\n",
    "3. Using the values of the gradient and intercept from the line of best fit as arguments, define a function that predicts the concentration of CO2 for a given year, prints the results, and returns the value as a variable. What is the predicted concentration of CO2 for the year 2050?\n",
    "\n",
    "---\n",
    "### Tips\n",
    "\n",
    "To enhance your plots, you may wish to set what numbers appear on your axes (these are known as ticks: [plt.xticks](https://matplotlib.org/stable/api/_as_gen/matplotlib.pyplot.xticks.html) or [axes.set_xticks](https://matplotlib.org/stable/api/_as_gen/matplotlib.axes.Axes.set_xticks.html) and [plt.yticks](https://matplotlib.org/stable/api/_as_gen/matplotlib.pyplot.xticks.html) or [axes.set_yticks](https://matplotlib.org/stable/api/_as_gen/matplotlib.axes.Axes.set_xticks.html)), change the minimum or maximum values that your plot spans (use [plt.xlim](https://matplotlib.org/stable/api/_as_gen/matplotlib.pyplot.xlim.html) or [plt.set_xlim](https://matplotlib.org/stable/api/_as_gen/matplotlib.axes.Axes.set_xlim.html) and [plt.ylim](https://matplotlib.org/stable/api/_as_gen/matplotlib.pyplot.ylim.html) or [plt.set_ylim](https://matplotlib.org/stable/api/_as_gen/matplotlib.axes.Axes.set_ylim.html)), change the position/style of your [legend](https://matplotlib.org/stable/api/_as_gen/matplotlib.pyplot.legend.html), and change the size of your figure using [plt.figure](https://matplotlib.org/stable/api/_as_gen/matplotlib.pyplot.figure.html). \n",
    "\n",
    "These are just a few of the additional tools you may wish to use to great clear and effective plots for data visualisation, but there are many more that you can use."
   ]
  },
  {
   "cell_type": "code",
   "execution_count": null,
   "metadata": {},
   "outputs": [],
   "source": [
    "import matplotlib.pyplot as plt\n",
    "import numpy as np\n",
    "from scipy.stats import linregress\n",
    "\n",
    "# Import the data from the csv files.\n",
    "\n",
    "# Recall the features of a high quality plot.\n",
    "\n",
    "# Create subplots and plot data for plots 1 and 2.\n",
    "\n",
    "# Fit the data and make plot 3.\n",
    "\n",
    "# Define and call your function"
   ]
  }
 ],
 "metadata": {
  "kernelspec": {
   "display_name": "Python 3",
   "language": "python",
   "name": "python3"
  },
  "language_info": {
   "codemirror_mode": {
    "name": "ipython",
    "version": 3
   },
   "file_extension": ".py",
   "mimetype": "text/x-python",
   "name": "python",
   "nbconvert_exporter": "python",
   "pygments_lexer": "ipython3",
   "version": "3.7.4"
  }
 },
 "nbformat": 4,
 "nbformat_minor": 2
}
